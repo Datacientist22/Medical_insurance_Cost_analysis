{
  "nbformat": 4,
  "nbformat_minor": 0,
  "metadata": {
    "colab": {
      "name": "Medical_insurance_cost.ipynb",
      "provenance": [],
      "collapsed_sections": []
    },
    "kernelspec": {
      "name": "python3",
      "display_name": "Python 3"
    },
    "language_info": {
      "name": "python"
    }
  },
  "cells": [
    {
      "cell_type": "code",
      "execution_count": 1,
      "metadata": {
        "id": "bfnIAgQMNaSk"
      },
      "outputs": [],
      "source": [
        "import pandas as pd\n",
        "import numpy as np\n",
        "import matplotlib.pyplot as plt\n",
        "import seaborn as sns\n"
      ]
    },
    {
      "cell_type": "code",
      "source": [
        "train_data=pd.read_csv(\"Train_Data.csv\")"
      ],
      "metadata": {
        "id": "CtTw1zU6O81n"
      },
      "execution_count": 3,
      "outputs": []
    },
    {
      "cell_type": "code",
      "source": [
        "train_data.head()"
      ],
      "metadata": {
        "colab": {
          "base_uri": "https://localhost:8080/",
          "height": 206
        },
        "id": "hWzofIpkPGx7",
        "outputId": "c972c094-e8e6-4452-8ed5-cf07689e3d06"
      },
      "execution_count": 4,
      "outputs": [
        {
          "output_type": "execute_result",
          "data": {
            "text/plain": [
              "         age     sex        bmi smoker     region  children       charges\n",
              "0  21.000000    male  25.745000     no  northeast         2   3279.868550\n",
              "1  36.976978  female  25.744165    yes  southeast         3  21454.494239\n",
              "2  18.000000    male  30.030000     no  southeast         1   1720.353700\n",
              "3  37.000000    male  30.676891     no  northeast         3   6801.437542\n",
              "4  58.000000    male  32.010000     no  southeast         1  11946.625900"
            ],
            "text/html": [
              "\n",
              "  <div id=\"df-e60cc86b-b201-47c9-a920-6aab362f8542\">\n",
              "    <div class=\"colab-df-container\">\n",
              "      <div>\n",
              "<style scoped>\n",
              "    .dataframe tbody tr th:only-of-type {\n",
              "        vertical-align: middle;\n",
              "    }\n",
              "\n",
              "    .dataframe tbody tr th {\n",
              "        vertical-align: top;\n",
              "    }\n",
              "\n",
              "    .dataframe thead th {\n",
              "        text-align: right;\n",
              "    }\n",
              "</style>\n",
              "<table border=\"1\" class=\"dataframe\">\n",
              "  <thead>\n",
              "    <tr style=\"text-align: right;\">\n",
              "      <th></th>\n",
              "      <th>age</th>\n",
              "      <th>sex</th>\n",
              "      <th>bmi</th>\n",
              "      <th>smoker</th>\n",
              "      <th>region</th>\n",
              "      <th>children</th>\n",
              "      <th>charges</th>\n",
              "    </tr>\n",
              "  </thead>\n",
              "  <tbody>\n",
              "    <tr>\n",
              "      <th>0</th>\n",
              "      <td>21.000000</td>\n",
              "      <td>male</td>\n",
              "      <td>25.745000</td>\n",
              "      <td>no</td>\n",
              "      <td>northeast</td>\n",
              "      <td>2</td>\n",
              "      <td>3279.868550</td>\n",
              "    </tr>\n",
              "    <tr>\n",
              "      <th>1</th>\n",
              "      <td>36.976978</td>\n",
              "      <td>female</td>\n",
              "      <td>25.744165</td>\n",
              "      <td>yes</td>\n",
              "      <td>southeast</td>\n",
              "      <td>3</td>\n",
              "      <td>21454.494239</td>\n",
              "    </tr>\n",
              "    <tr>\n",
              "      <th>2</th>\n",
              "      <td>18.000000</td>\n",
              "      <td>male</td>\n",
              "      <td>30.030000</td>\n",
              "      <td>no</td>\n",
              "      <td>southeast</td>\n",
              "      <td>1</td>\n",
              "      <td>1720.353700</td>\n",
              "    </tr>\n",
              "    <tr>\n",
              "      <th>3</th>\n",
              "      <td>37.000000</td>\n",
              "      <td>male</td>\n",
              "      <td>30.676891</td>\n",
              "      <td>no</td>\n",
              "      <td>northeast</td>\n",
              "      <td>3</td>\n",
              "      <td>6801.437542</td>\n",
              "    </tr>\n",
              "    <tr>\n",
              "      <th>4</th>\n",
              "      <td>58.000000</td>\n",
              "      <td>male</td>\n",
              "      <td>32.010000</td>\n",
              "      <td>no</td>\n",
              "      <td>southeast</td>\n",
              "      <td>1</td>\n",
              "      <td>11946.625900</td>\n",
              "    </tr>\n",
              "  </tbody>\n",
              "</table>\n",
              "</div>\n",
              "      <button class=\"colab-df-convert\" onclick=\"convertToInteractive('df-e60cc86b-b201-47c9-a920-6aab362f8542')\"\n",
              "              title=\"Convert this dataframe to an interactive table.\"\n",
              "              style=\"display:none;\">\n",
              "        \n",
              "  <svg xmlns=\"http://www.w3.org/2000/svg\" height=\"24px\"viewBox=\"0 0 24 24\"\n",
              "       width=\"24px\">\n",
              "    <path d=\"M0 0h24v24H0V0z\" fill=\"none\"/>\n",
              "    <path d=\"M18.56 5.44l.94 2.06.94-2.06 2.06-.94-2.06-.94-.94-2.06-.94 2.06-2.06.94zm-11 1L8.5 8.5l.94-2.06 2.06-.94-2.06-.94L8.5 2.5l-.94 2.06-2.06.94zm10 10l.94 2.06.94-2.06 2.06-.94-2.06-.94-.94-2.06-.94 2.06-2.06.94z\"/><path d=\"M17.41 7.96l-1.37-1.37c-.4-.4-.92-.59-1.43-.59-.52 0-1.04.2-1.43.59L10.3 9.45l-7.72 7.72c-.78.78-.78 2.05 0 2.83L4 21.41c.39.39.9.59 1.41.59.51 0 1.02-.2 1.41-.59l7.78-7.78 2.81-2.81c.8-.78.8-2.07 0-2.86zM5.41 20L4 18.59l7.72-7.72 1.47 1.35L5.41 20z\"/>\n",
              "  </svg>\n",
              "      </button>\n",
              "      \n",
              "  <style>\n",
              "    .colab-df-container {\n",
              "      display:flex;\n",
              "      flex-wrap:wrap;\n",
              "      gap: 12px;\n",
              "    }\n",
              "\n",
              "    .colab-df-convert {\n",
              "      background-color: #E8F0FE;\n",
              "      border: none;\n",
              "      border-radius: 50%;\n",
              "      cursor: pointer;\n",
              "      display: none;\n",
              "      fill: #1967D2;\n",
              "      height: 32px;\n",
              "      padding: 0 0 0 0;\n",
              "      width: 32px;\n",
              "    }\n",
              "\n",
              "    .colab-df-convert:hover {\n",
              "      background-color: #E2EBFA;\n",
              "      box-shadow: 0px 1px 2px rgba(60, 64, 67, 0.3), 0px 1px 3px 1px rgba(60, 64, 67, 0.15);\n",
              "      fill: #174EA6;\n",
              "    }\n",
              "\n",
              "    [theme=dark] .colab-df-convert {\n",
              "      background-color: #3B4455;\n",
              "      fill: #D2E3FC;\n",
              "    }\n",
              "\n",
              "    [theme=dark] .colab-df-convert:hover {\n",
              "      background-color: #434B5C;\n",
              "      box-shadow: 0px 1px 3px 1px rgba(0, 0, 0, 0.15);\n",
              "      filter: drop-shadow(0px 1px 2px rgba(0, 0, 0, 0.3));\n",
              "      fill: #FFFFFF;\n",
              "    }\n",
              "  </style>\n",
              "\n",
              "      <script>\n",
              "        const buttonEl =\n",
              "          document.querySelector('#df-e60cc86b-b201-47c9-a920-6aab362f8542 button.colab-df-convert');\n",
              "        buttonEl.style.display =\n",
              "          google.colab.kernel.accessAllowed ? 'block' : 'none';\n",
              "\n",
              "        async function convertToInteractive(key) {\n",
              "          const element = document.querySelector('#df-e60cc86b-b201-47c9-a920-6aab362f8542');\n",
              "          const dataTable =\n",
              "            await google.colab.kernel.invokeFunction('convertToInteractive',\n",
              "                                                     [key], {});\n",
              "          if (!dataTable) return;\n",
              "\n",
              "          const docLinkHtml = 'Like what you see? Visit the ' +\n",
              "            '<a target=\"_blank\" href=https://colab.research.google.com/notebooks/data_table.ipynb>data table notebook</a>'\n",
              "            + ' to learn more about interactive tables.';\n",
              "          element.innerHTML = '';\n",
              "          dataTable['output_type'] = 'display_data';\n",
              "          await google.colab.output.renderOutput(dataTable, element);\n",
              "          const docLink = document.createElement('div');\n",
              "          docLink.innerHTML = docLinkHtml;\n",
              "          element.appendChild(docLink);\n",
              "        }\n",
              "      </script>\n",
              "    </div>\n",
              "  </div>\n",
              "  "
            ]
          },
          "metadata": {},
          "execution_count": 4
        }
      ]
    },
    {
      "cell_type": "code",
      "source": [
        "train_data.shape"
      ],
      "metadata": {
        "colab": {
          "base_uri": "https://localhost:8080/"
        },
        "id": "rcRGdkVWPNqZ",
        "outputId": "07c3ca8d-e6dc-4907-a2c5-fbc88f604bef"
      },
      "execution_count": 5,
      "outputs": [
        {
          "output_type": "execute_result",
          "data": {
            "text/plain": [
              "(3630, 7)"
            ]
          },
          "metadata": {},
          "execution_count": 5
        }
      ]
    },
    {
      "cell_type": "code",
      "source": [
        "train_data.isnull().sum()"
      ],
      "metadata": {
        "colab": {
          "base_uri": "https://localhost:8080/"
        },
        "id": "joN-b54hPQ-w",
        "outputId": "4e5109f5-6dc9-4643-aeda-8ae6e6be0190"
      },
      "execution_count": 6,
      "outputs": [
        {
          "output_type": "execute_result",
          "data": {
            "text/plain": [
              "age         0\n",
              "sex         0\n",
              "bmi         0\n",
              "smoker      0\n",
              "region      0\n",
              "children    0\n",
              "charges     0\n",
              "dtype: int64"
            ]
          },
          "metadata": {},
          "execution_count": 6
        }
      ]
    },
    {
      "cell_type": "code",
      "source": [
        "plt.figure(figsize=(8,5))\n",
        "sns.histplot(train_data[\"charges\"],kde=True)\n",
        "plt.title(\"Medical Insurance Charges\",fontsize=20)\n",
        "plt.show()\n"
      ],
      "metadata": {
        "colab": {
          "base_uri": "https://localhost:8080/",
          "height": 355
        },
        "id": "njlVpylnQkNv",
        "outputId": "7cc88f67-1611-4339-c86f-9c892d47589b"
      },
      "execution_count": 7,
      "outputs": [
        {
          "output_type": "display_data",
          "data": {
            "text/plain": [
              "<Figure size 576x360 with 1 Axes>"
            ],
            "image/png": "[encoded data removed]"
          },
          "metadata": {
            "needs_background": "light"
          }
        }
      ]
    },
    {
      "cell_type": "code",
      "source": [
        "plt.figure(figsize=(8,5))\n",
        "sns.boxplot(train_data[\"charges\"])\n",
        "plt.title(\"Medical Insurance Charges\",fontsize=20)\n",
        "plt.show()"
      ],
      "metadata": {
        "colab": {
          "base_uri": "https://localhost:8080/",
          "height": 410
        },
        "id": "Wg9fMLZBRNP9",
        "outputId": "c1b4a495-e918-4791-e668-d231f4076fda"
      },
      "execution_count": 8,
      "outputs": [
        {
          "output_type": "stream",
          "name": "stderr",
          "text": [
            "/usr/local/lib/python3.7/dist-packages/seaborn/_decorators.py:43: FutureWarning: Pass the following variable as a keyword arg: x. From version 0.12, the only valid positional argument will be `data`, and passing other arguments without an explicit keyword will result in an error or misinterpretation.\n",
            "  FutureWarning\n"
          ]
        },
        {
          "output_type": "display_data",
          "data": {
            "text/plain": [
              "<Figure size 576x360 with 1 Axes>"
            ],
            "image/png": "[encoded data removed]"
          },
          "metadata": {
            "needs_background": "light"
          }
        }
      ]
    },
    {
      "cell_type": "code",
      "source": [
        "plt.figure(figsize=(8,5))\n",
        "sns.histplot(train_data[\"age\"],kde=True)\n",
        "plt.title(\"Age\",fontsize=20)\n",
        "plt.show()"
      ],
      "metadata": {
        "colab": {
          "base_uri": "https://localhost:8080/",
          "height": 355
        },
        "id": "dUk-6zOVRiVm",
        "outputId": "6b2182d1-f6cd-4d62-f6c1-1480c3c18b1d"
      },
      "execution_count": 9,
      "outputs": [
        {
          "output_type": "display_data",
          "data": {
            "text/plain": [
              "<Figure size 576x360 with 1 Axes>"
            ],
            "image/png": "[encoded data removed]"
          },
          "metadata": {
            "needs_background": "light"
          }
        }
      ]
    },
    {
      "cell_type": "code",
      "source": [
        "plt.figure(figsize=(8,5))\n",
        "sns.boxplot(train_data[\"age\"])\n",
        "plt.title(\"Age\",fontsize=20)\n",
        "plt.show()"
      ],
      "metadata": {
        "colab": {
          "base_uri": "https://localhost:8080/",
          "height": 410
        },
        "id": "UlYmqjX1Rtf1",
        "outputId": "fd5b60d6-0f98-49b9-8735-d55a6e3b212c"
      },
      "execution_count": 10,
      "outputs": [
        {
          "output_type": "stream",
          "name": "stderr",
          "text": [
            "/usr/local/lib/python3.7/dist-packages/seaborn/_decorators.py:43: FutureWarning: Pass the following variable as a keyword arg: x. From version 0.12, the only valid positional argument will be `data`, and passing other arguments without an explicit keyword will result in an error or misinterpretation.\n",
            "  FutureWarning\n"
          ]
        },
        {
          "output_type": "display_data",
          "data": {
            "text/plain": [
              "<Figure size 576x360 with 1 Axes>"
            ],
            "image/png": "[encoded data removed]"
          },
          "metadata": {
            "needs_background": "light"
          }
        }
      ]
    },
    {
      "cell_type": "code",
      "source": [
        "plt.figure(figsize=(8,5))\n",
        "sns.histplot(train_data[\"bmi\"],kde=True)\n",
        "plt.title(\"BMI\",fontsize=20)\n",
        "plt.show()"
      ],
      "metadata": {
        "colab": {
          "base_uri": "https://localhost:8080/",
          "height": 355
        },
        "id": "h1gZVvmaR2a8",
        "outputId": "18e379b0-063e-47ea-f3fe-a8926be05c61"
      },
      "execution_count": 11,
      "outputs": [
        {
          "output_type": "display_data",
          "data": {
            "text/plain": [
              "<Figure size 576x360 with 1 Axes>"
            ],
            "image/png": "[encoded data removed]"
          },
          "metadata": {
            "needs_background": "light"
          }
        }
      ]
    },
    {
      "cell_type": "code",
      "source": [
        "plt.figure(figsize=(8,5))\n",
        "sns.boxplot(train_data[\"bmi\"])\n",
        "plt.title(\"BMI\",fontsize=20)\n",
        "plt.show()"
      ],
      "metadata": {
        "colab": {
          "base_uri": "https://localhost:8080/",
          "height": 410
        },
        "id": "FgM-r02NSEPV",
        "outputId": "6ecc5ac1-0c18-4470-d135-94555b6ae85c"
      },
      "execution_count": 12,
      "outputs": [
        {
          "output_type": "stream",
          "name": "stderr",
          "text": [
            "/usr/local/lib/python3.7/dist-packages/seaborn/_decorators.py:43: FutureWarning: Pass the following variable as a keyword arg: x. From version 0.12, the only valid positional argument will be `data`, and passing other arguments without an explicit keyword will result in an error or misinterpretation.\n",
            "  FutureWarning\n"
          ]
        },
        {
          "output_type": "display_data",
          "data": {
            "text/plain": [
              "<Figure size 576x360 with 1 Axes>"
            ],
            "image/png": "[encoded data removed]"
          },
          "metadata": {
            "needs_background": "light"
          }
        }
      ]
    },
    {
      "cell_type": "code",
      "source": [
        "plt.figure(figsize=(8,5))\n",
        "sns.histplot(train_data[\"children\"],kde=True)\n",
        "plt.title(\"Children\",fontsize=20)\n",
        "plt.show()"
      ],
      "metadata": {
        "colab": {
          "base_uri": "https://localhost:8080/",
          "height": 355
        },
        "id": "gt9QiaD6SLHk",
        "outputId": "9092e775-94ea-4250-b49f-666d1f6fb0bc"
      },
      "execution_count": 18,
      "outputs": [
        {
          "output_type": "display_data",
          "data": {
            "text/plain": [
              "<Figure size 576x360 with 1 Axes>"
            ],
            "image/png": "[encoded data removed]"
          },
          "metadata": {
            "needs_background": "light"
          }
        }
      ]
    },
    {
      "cell_type": "code",
      "source": [
        "plt.figure(figsize=(8,5))\n",
        "sns.boxplot(train_data[\"children\"])\n",
        "plt.title(\"Children\",fontsize=20)\n",
        "plt.show()"
      ],
      "metadata": {
        "colab": {
          "base_uri": "https://localhost:8080/",
          "height": 410
        },
        "id": "FgoyRJT2SWF1",
        "outputId": "8cfcedcd-4b5d-4583-c7af-ee0cb9fec214"
      },
      "execution_count": 16,
      "outputs": [
        {
          "output_type": "stream",
          "name": "stderr",
          "text": [
            "/usr/local/lib/python3.7/dist-packages/seaborn/_decorators.py:43: FutureWarning: Pass the following variable as a keyword arg: x. From version 0.12, the only valid positional argument will be `data`, and passing other arguments without an explicit keyword will result in an error or misinterpretation.\n",
            "  FutureWarning\n"
          ]
        },
        {
          "output_type": "display_data",
          "data": {
            "text/plain": [
              "<Figure size 576x360 with 1 Axes>"
            ],
            "image/png": "[encoded data removed]"
          },
          "metadata": {
            "needs_background": "light"
          }
        }
      ]
    },
    {
      "cell_type": "code",
      "source": [
        "train_data[\"sex\"].value_counts()"
      ],
      "metadata": {
        "colab": {
          "base_uri": "https://localhost:8080/"
        },
        "id": "nNIpFR26S_QL",
        "outputId": "c6d700ab-b7e1-49eb-9a8c-9e6f3b5ef4eb"
      },
      "execution_count": 19,
      "outputs": [
        {
          "output_type": "execute_result",
          "data": {
            "text/plain": [
              "male      2029\n",
              "female    1601\n",
              "Name: sex, dtype: int64"
            ]
          },
          "metadata": {},
          "execution_count": 19
        }
      ]
    },
    {
      "cell_type": "code",
      "source": [
        "plt.figure(figsize=(6,4))\n",
        "sns.countplot(train_data[\"sex\"])\n",
        "plt.title(\"Medical Insurance Charges\",fontsize=20)\n",
        "plt.show()"
      ],
      "metadata": {
        "colab": {
          "base_uri": "https://localhost:8080/",
          "height": 355
        },
        "id": "ig1ijLIYTOTb",
        "outputId": "7374e11a-00dd-4846-89f2-67930ecd5758"
      },
      "execution_count": 20,
      "outputs": [
        {
          "output_type": "stream",
          "name": "stderr",
          "text": [
            "/usr/local/lib/python3.7/dist-packages/seaborn/_decorators.py:43: FutureWarning: Pass the following variable as a keyword arg: x. From version 0.12, the only valid positional argument will be `data`, and passing other arguments without an explicit keyword will result in an error or misinterpretation.\n",
            "  FutureWarning\n"
          ]
        },
        {
          "output_type": "display_data",
          "data": {
            "text/plain": [
              "<Figure size 432x288 with 1 Axes>"
            ],
            "image/png": "[encoded data removed]"
          },
          "metadata": {
            "needs_background": "light"
          }
        }
      ]
    },
    {
      "cell_type": "code",
      "source": [
        "train_data[\"smoker\"].value_counts()"
      ],
      "metadata": {
        "colab": {
          "base_uri": "https://localhost:8080/"
        },
        "id": "43hr4CkUTauT",
        "outputId": "7abde481-8f04-4166-c948-72e5b5ed2916"
      },
      "execution_count": 22,
      "outputs": [
        {
          "output_type": "execute_result",
          "data": {
            "text/plain": [
              "no     3070\n",
              "yes     560\n",
              "Name: smoker, dtype: int64"
            ]
          },
          "metadata": {},
          "execution_count": 22
        }
      ]
    },
    {
      "cell_type": "code",
      "source": [
        "plt.figure(figsize=(8,5))\n",
        "sns.countplot(train_data[\"smoker\"])\n",
        "plt.title(\"Smokers\",fontsize=20)\n",
        "plt.show()"
      ],
      "metadata": {
        "colab": {
          "base_uri": "https://localhost:8080/",
          "height": 410
        },
        "id": "EHxz6HImTq1c",
        "outputId": "6c4ba69b-486e-412a-ddfd-8e7e03eed323"
      },
      "execution_count": 23,
      "outputs": [
        {
          "output_type": "stream",
          "name": "stderr",
          "text": [
            "/usr/local/lib/python3.7/dist-packages/seaborn/_decorators.py:43: FutureWarning: Pass the following variable as a keyword arg: x. From version 0.12, the only valid positional argument will be `data`, and passing other arguments without an explicit keyword will result in an error or misinterpretation.\n",
            "  FutureWarning\n"
          ]
        },
        {
          "output_type": "display_data",
          "data": {
            "text/plain": [
              "<Figure size 576x360 with 1 Axes>"
            ],
            "image/png": "[encoded data removed]"
          },
          "metadata": {
            "needs_background": "light"
          }
        }
      ]
    },
    {
      "cell_type": "code",
      "source": [
        "train_data[\"region\"].value_counts()"
      ],
      "metadata": {
        "colab": {
          "base_uri": "https://localhost:8080/"
        },
        "id": "GWvkcFzvTzYz",
        "outputId": "0679043f-d723-4c5c-cb94-b4ee1e418145"
      },
      "execution_count": 24,
      "outputs": [
        {
          "output_type": "execute_result",
          "data": {
            "text/plain": [
              "southeast    1021\n",
              "northwest     911\n",
              "southwest     850\n",
              "northeast     848\n",
              "Name: region, dtype: int64"
            ]
          },
          "metadata": {},
          "execution_count": 24
        }
      ]
    },
    {
      "cell_type": "code",
      "source": [
        "train_data[\"age\"]=round(train_data[\"age\"]).astype(int)\n",
        "train_data.head()"
      ],
      "metadata": {
        "colab": {
          "base_uri": "https://localhost:8080/",
          "height": 206
        },
        "id": "7tor-0ieT-0y",
        "outputId": "dc30ce5b-3c69-4829-e3ce-9a48d4e64adf"
      },
      "execution_count": 26,
      "outputs": [
        {
          "output_type": "execute_result",
          "data": {
            "text/plain": [
              "   age     sex        bmi smoker     region  children       charges\n",
              "0   21    male  25.745000     no  northeast         2   3279.868550\n",
              "1   37  female  25.744165    yes  southeast         3  21454.494239\n",
              "2   18    male  30.030000     no  southeast         1   1720.353700\n",
              "3   37    male  30.676891     no  northeast         3   6801.437542\n",
              "4   58    male  32.010000     no  southeast         1  11946.625900"
            ],
            "text/html": [
              "\n",
              "  <div id=\"df-1f27835b-2601-4584-ba00-44d98574cb8f\">\n",
              "    <div class=\"colab-df-container\">\n",
              "      <div>\n",
              "<style scoped>\n",
              "    .dataframe tbody tr th:only-of-type {\n",
              "        vertical-align: middle;\n",
              "    }\n",
              "\n",
              "    .dataframe tbody tr th {\n",
              "        vertical-align: top;\n",
              "    }\n",
              "\n",
              "    .dataframe thead th {\n",
              "        text-align: right;\n",
              "    }\n",
              "</style>\n",
              "<table border=\"1\" class=\"dataframe\">\n",
              "  <thead>\n",
              "    <tr style=\"text-align: right;\">\n",
              "      <th></th>\n",
              "      <th>age</th>\n",
              "      <th>sex</th>\n",
              "      <th>bmi</th>\n",
              "      <th>smoker</th>\n",
              "      <th>region</th>\n",
              "      <th>children</th>\n",
              "      <th>charges</th>\n",
              "    </tr>\n",
              "  </thead>\n",
              "  <tbody>\n",
              "    <tr>\n",
              "      <th>0</th>\n",
              "      <td>21</td>\n",
              "      <td>male</td>\n",
              "      <td>25.745000</td>\n",
              "      <td>no</td>\n",
              "      <td>northeast</td>\n",
              "      <td>2</td>\n",
              "      <td>3279.868550</td>\n",
              "    </tr>\n",
              "    <tr>\n",
              "      <th>1</th>\n",
              "      <td>37</td>\n",
              "      <td>female</td>\n",
              "      <td>25.744165</td>\n",
              "      <td>yes</td>\n",
              "      <td>southeast</td>\n",
              "      <td>3</td>\n",
              "      <td>21454.494239</td>\n",
              "    </tr>\n",
              "    <tr>\n",
              "      <th>2</th>\n",
              "      <td>18</td>\n",
              "      <td>male</td>\n",
              "      <td>30.030000</td>\n",
              "      <td>no</td>\n",
              "      <td>southeast</td>\n",
              "      <td>1</td>\n",
              "      <td>1720.353700</td>\n",
              "    </tr>\n",
              "    <tr>\n",
              "      <th>3</th>\n",
              "      <td>37</td>\n",
              "      <td>male</td>\n",
              "      <td>30.676891</td>\n",
              "      <td>no</td>\n",
              "      <td>northeast</td>\n",
              "      <td>3</td>\n",
              "      <td>6801.437542</td>\n",
              "    </tr>\n",
              "    <tr>\n",
              "      <th>4</th>\n",
              "      <td>58</td>\n",
              "      <td>male</td>\n",
              "      <td>32.010000</td>\n",
              "      <td>no</td>\n",
              "      <td>southeast</td>\n",
              "      <td>1</td>\n",
              "      <td>11946.625900</td>\n",
              "    </tr>\n",
              "  </tbody>\n",
              "</table>\n",
              "</div>\n",
              "      <button class=\"colab-df-convert\" onclick=\"convertToInteractive('df-1f27835b-2601-4584-ba00-44d98574cb8f')\"\n",
              "              title=\"Convert this dataframe to an interactive table.\"\n",
              "              style=\"display:none;\">\n",
              "        \n",
              "  <svg xmlns=\"http://www.w3.org/2000/svg\" height=\"24px\"viewBox=\"0 0 24 24\"\n",
              "       width=\"24px\">\n",
              "    <path d=\"M0 0h24v24H0V0z\" fill=\"none\"/>\n",
              "    <path d=\"M18.56 5.44l.94 2.06.94-2.06 2.06-.94-2.06-.94-.94-2.06-.94 2.06-2.06.94zm-11 1L8.5 8.5l.94-2.06 2.06-.94-2.06-.94L8.5 2.5l-.94 2.06-2.06.94zm10 10l.94 2.06.94-2.06 2.06-.94-2.06-.94-.94-2.06-.94 2.06-2.06.94z\"/><path d=\"M17.41 7.96l-1.37-1.37c-.4-.4-.92-.59-1.43-.59-.52 0-1.04.2-1.43.59L10.3 9.45l-7.72 7.72c-.78.78-.78 2.05 0 2.83L4 21.41c.39.39.9.59 1.41.59.51 0 1.02-.2 1.41-.59l7.78-7.78 2.81-2.81c.8-.78.8-2.07 0-2.86zM5.41 20L4 18.59l7.72-7.72 1.47 1.35L5.41 20z\"/>\n",
              "  </svg>\n",
              "      </button>\n",
              "      \n",
              "  <style>\n",
              "    .colab-df-container {\n",
              "      display:flex;\n",
              "      flex-wrap:wrap;\n",
              "      gap: 12px;\n",
              "    }\n",
              "\n",
              "    .colab-df-convert {\n",
              "      background-color: #E8F0FE;\n",
              "      border: none;\n",
              "      border-radius: 50%;\n",
              "      cursor: pointer;\n",
              "      display: none;\n",
              "      fill: #1967D2;\n",
              "      height: 32px;\n",
              "      padding: 0 0 0 0;\n",
              "      width: 32px;\n",
              "    }\n",
              "\n",
              "    .colab-df-convert:hover {\n",
              "      background-color: #E2EBFA;\n",
              "      box-shadow: 0px 1px 2px rgba(60, 64, 67, 0.3), 0px 1px 3px 1px rgba(60, 64, 67, 0.15);\n",
              "      fill: #174EA6;\n",
              "    }\n",
              "\n",
              "    [theme=dark] .colab-df-convert {\n",
              "      background-color: #3B4455;\n",
              "      fill: #D2E3FC;\n",
              "    }\n",
              "\n",
              "    [theme=dark] .colab-df-convert:hover {\n",
              "      background-color: #434B5C;\n",
              "      box-shadow: 0px 1px 3px 1px rgba(0, 0, 0, 0.15);\n",
              "      filter: drop-shadow(0px 1px 2px rgba(0, 0, 0, 0.3));\n",
              "      fill: #FFFFFF;\n",
              "    }\n",
              "  </style>\n",
              "\n",
              "      <script>\n",
              "        const buttonEl =\n",
              "          document.querySelector('#df-1f27835b-2601-4584-ba00-44d98574cb8f button.colab-df-convert');\n",
              "        buttonEl.style.display =\n",
              "          google.colab.kernel.accessAllowed ? 'block' : 'none';\n",
              "\n",
              "        async function convertToInteractive(key) {\n",
              "          const element = document.querySelector('#df-1f27835b-2601-4584-ba00-44d98574cb8f');\n",
              "          const dataTable =\n",
              "            await google.colab.kernel.invokeFunction('convertToInteractive',\n",
              "                                                     [key], {});\n",
              "          if (!dataTable) return;\n",
              "\n",
              "          const docLinkHtml = 'Like what you see? Visit the ' +\n",
              "            '<a target=\"_blank\" href=https://colab.research.google.com/notebooks/data_table.ipynb>data table notebook</a>'\n",
              "            + ' to learn more about interactive tables.';\n",
              "          element.innerHTML = '';\n",
              "          dataTable['output_type'] = 'display_data';\n",
              "          await google.colab.output.renderOutput(dataTable, element);\n",
              "          const docLink = document.createElement('div');\n",
              "          docLink.innerHTML = docLinkHtml;\n",
              "          element.appendChild(docLink);\n",
              "        }\n",
              "      </script>\n",
              "    </div>\n",
              "  </div>\n",
              "  "
            ]
          },
          "metadata": {},
          "execution_count": 26
        }
      ]
    },
    {
      "cell_type": "code",
      "source": [
        "train_data=pd.get_dummies(train_data,drop_first=True)"
      ],
      "metadata": {
        "id": "y-oo2E7eUR6e"
      },
      "execution_count": 32,
      "outputs": []
    },
    {
      "cell_type": "code",
      "source": [
        "train_data.head()"
      ],
      "metadata": {
        "colab": {
          "base_uri": "https://localhost:8080/",
          "height": 206
        },
        "id": "gPNjPgDRVRNI",
        "outputId": "96a3d37c-6b56-44d8-8108-5427b7fde41a"
      },
      "execution_count": 33,
      "outputs": [
        {
          "output_type": "execute_result",
          "data": {
            "text/plain": [
              "   age        bmi  children       charges  sex_male  smoker_yes  \\\n",
              "0   21  25.745000         2   3279.868550         1           0   \n",
              "1   37  25.744165         3  21454.494239         0           1   \n",
              "2   18  30.030000         1   1720.353700         1           0   \n",
              "3   37  30.676891         3   6801.437542         1           0   \n",
              "4   58  32.010000         1  11946.625900         1           0   \n",
              "\n",
              "   region_northwest  region_southeast  region_southwest  \n",
              "0                 0                 0                 0  \n",
              "1                 0                 1                 0  \n",
              "2                 0                 1                 0  \n",
              "3                 0                 0                 0  \n",
              "4                 0                 1                 0  "
            ],
            "text/html": [
              "\n",
              "  <div id=\"df-d0bcc009-78b4-4983-b74f-8570292e6cfd\">\n",
              "    <div class=\"colab-df-container\">\n",
              "      <div>\n",
              "<style scoped>\n",
              "    .dataframe tbody tr th:only-of-type {\n",
              "        vertical-align: middle;\n",
              "    }\n",
              "\n",
              "    .dataframe tbody tr th {\n",
              "        vertical-align: top;\n",
              "    }\n",
              "\n",
              "    .dataframe thead th {\n",
              "        text-align: right;\n",
              "    }\n",
              "</style>\n",
              "<table border=\"1\" class=\"dataframe\">\n",
              "  <thead>\n",
              "    <tr style=\"text-align: right;\">\n",
              "      <th></th>\n",
              "      <th>age</th>\n",
              "      <th>bmi</th>\n",
              "      <th>children</th>\n",
              "      <th>charges</th>\n",
              "      <th>sex_male</th>\n",
              "      <th>smoker_yes</th>\n",
              "      <th>region_northwest</th>\n",
              "      <th>region_southeast</th>\n",
              "      <th>region_southwest</th>\n",
              "    </tr>\n",
              "  </thead>\n",
              "  <tbody>\n",
              "    <tr>\n",
              "      <th>0</th>\n",
              "      <td>21</td>\n",
              "      <td>25.745000</td>\n",
              "      <td>2</td>\n",
              "      <td>3279.868550</td>\n",
              "      <td>1</td>\n",
              "      <td>0</td>\n",
              "      <td>0</td>\n",
              "      <td>0</td>\n",
              "      <td>0</td>\n",
              "    </tr>\n",
              "    <tr>\n",
              "      <th>1</th>\n",
              "      <td>37</td>\n",
              "      <td>25.744165</td>\n",
              "      <td>3</td>\n",
              "      <td>21454.494239</td>\n",
              "      <td>0</td>\n",
              "      <td>1</td>\n",
              "      <td>0</td>\n",
              "      <td>1</td>\n",
              "      <td>0</td>\n",
              "    </tr>\n",
              "    <tr>\n",
              "      <th>2</th>\n",
              "      <td>18</td>\n",
              "      <td>30.030000</td>\n",
              "      <td>1</td>\n",
              "      <td>1720.353700</td>\n",
              "      <td>1</td>\n",
              "      <td>0</td>\n",
              "      <td>0</td>\n",
              "      <td>1</td>\n",
              "      <td>0</td>\n",
              "    </tr>\n",
              "    <tr>\n",
              "      <th>3</th>\n",
              "      <td>37</td>\n",
              "      <td>30.676891</td>\n",
              "      <td>3</td>\n",
              "      <td>6801.437542</td>\n",
              "      <td>1</td>\n",
              "      <td>0</td>\n",
              "      <td>0</td>\n",
              "      <td>0</td>\n",
              "      <td>0</td>\n",
              "    </tr>\n",
              "    <tr>\n",
              "      <th>4</th>\n",
              "      <td>58</td>\n",
              "      <td>32.010000</td>\n",
              "      <td>1</td>\n",
              "      <td>11946.625900</td>\n",
              "      <td>1</td>\n",
              "      <td>0</td>\n",
              "      <td>0</td>\n",
              "      <td>1</td>\n",
              "      <td>0</td>\n",
              "    </tr>\n",
              "  </tbody>\n",
              "</table>\n",
              "</div>\n",
              "      <button class=\"colab-df-convert\" onclick=\"convertToInteractive('df-d0bcc009-78b4-4983-b74f-8570292e6cfd')\"\n",
              "              title=\"Convert this dataframe to an interactive table.\"\n",
              "              style=\"display:none;\">\n",
              "        \n",
              "  <svg xmlns=\"http://www.w3.org/2000/svg\" height=\"24px\"viewBox=\"0 0 24 24\"\n",
              "       width=\"24px\">\n",
              "    <path d=\"M0 0h24v24H0V0z\" fill=\"none\"/>\n",
              "    <path d=\"M18.56 5.44l.94 2.06.94-2.06 2.06-.94-2.06-.94-.94-2.06-.94 2.06-2.06.94zm-11 1L8.5 8.5l.94-2.06 2.06-.94-2.06-.94L8.5 2.5l-.94 2.06-2.06.94zm10 10l.94 2.06.94-2.06 2.06-.94-2.06-.94-.94-2.06-.94 2.06-2.06.94z\"/><path d=\"M17.41 7.96l-1.37-1.37c-.4-.4-.92-.59-1.43-.59-.52 0-1.04.2-1.43.59L10.3 9.45l-7.72 7.72c-.78.78-.78 2.05 0 2.83L4 21.41c.39.39.9.59 1.41.59.51 0 1.02-.2 1.41-.59l7.78-7.78 2.81-2.81c.8-.78.8-2.07 0-2.86zM5.41 20L4 18.59l7.72-7.72 1.47 1.35L5.41 20z\"/>\n",
              "  </svg>\n",
              "      </button>\n",
              "      \n",
              "  <style>\n",
              "    .colab-df-container {\n",
              "      display:flex;\n",
              "      flex-wrap:wrap;\n",
              "      gap: 12px;\n",
              "    }\n",
              "\n",
              "    .colab-df-convert {\n",
              "      background-color: #E8F0FE;\n",
              "      border: none;\n",
              "      border-radius: 50%;\n",
              "      cursor: pointer;\n",
              "      display: none;\n",
              "      fill: #1967D2;\n",
              "      height: 32px;\n",
              "      padding: 0 0 0 0;\n",
              "      width: 32px;\n",
              "    }\n",
              "\n",
              "    .colab-df-convert:hover {\n",
              "      background-color: #E2EBFA;\n",
              "      box-shadow: 0px 1px 2px rgba(60, 64, 67, 0.3), 0px 1px 3px 1px rgba(60, 64, 67, 0.15);\n",
              "      fill: #174EA6;\n",
              "    }\n",
              "\n",
              "    [theme=dark] .colab-df-convert {\n",
              "      background-color: #3B4455;\n",
              "      fill: #D2E3FC;\n",
              "    }\n",
              "\n",
              "    [theme=dark] .colab-df-convert:hover {\n",
              "      background-color: #434B5C;\n",
              "      box-shadow: 0px 1px 3px 1px rgba(0, 0, 0, 0.15);\n",
              "      filter: drop-shadow(0px 1px 2px rgba(0, 0, 0, 0.3));\n",
              "      fill: #FFFFFF;\n",
              "    }\n",
              "  </style>\n",
              "\n",
              "      <script>\n",
              "        const buttonEl =\n",
              "          document.querySelector('#df-d0bcc009-78b4-4983-b74f-8570292e6cfd button.colab-df-convert');\n",
              "        buttonEl.style.display =\n",
              "          google.colab.kernel.accessAllowed ? 'block' : 'none';\n",
              "\n",
              "        async function convertToInteractive(key) {\n",
              "          const element = document.querySelector('#df-d0bcc009-78b4-4983-b74f-8570292e6cfd');\n",
              "          const dataTable =\n",
              "            await google.colab.kernel.invokeFunction('convertToInteractive',\n",
              "                                                     [key], {});\n",
              "          if (!dataTable) return;\n",
              "\n",
              "          const docLinkHtml = 'Like what you see? Visit the ' +\n",
              "            '<a target=\"_blank\" href=https://colab.research.google.com/notebooks/data_table.ipynb>data table notebook</a>'\n",
              "            + ' to learn more about interactive tables.';\n",
              "          element.innerHTML = '';\n",
              "          dataTable['output_type'] = 'display_data';\n",
              "          await google.colab.output.renderOutput(dataTable, element);\n",
              "          const docLink = document.createElement('div');\n",
              "          docLink.innerHTML = docLinkHtml;\n",
              "          element.appendChild(docLink);\n",
              "        }\n",
              "      </script>\n",
              "    </div>\n",
              "  </div>\n",
              "  "
            ]
          },
          "metadata": {},
          "execution_count": 33
        }
      ]
    },
    {
      "cell_type": "code",
      "source": [
        "train_data=train_data[['age',\"smoker_yes\",\"children\",\"bmi\",\"sex_male\",\"region_southeast\",\"region_southwest\",\"region_northwest\",\"charges\"]]"
      ],
      "metadata": {
        "id": "tul4vtFlVxCP"
      },
      "execution_count": 34,
      "outputs": []
    },
    {
      "cell_type": "code",
      "source": [
        "train_data.head()"
      ],
      "metadata": {
        "colab": {
          "base_uri": "https://localhost:8080/",
          "height": 206
        },
        "id": "oYvXgdwVWgAw",
        "outputId": "456e3828-7930-43e4-cfaa-b972fb238576"
      },
      "execution_count": 35,
      "outputs": [
        {
          "output_type": "execute_result",
          "data": {
            "text/plain": [
              "   age  smoker_yes  children        bmi  sex_male  region_southeast  \\\n",
              "0   21           0         2  25.745000         1                 0   \n",
              "1   37           1         3  25.744165         0                 1   \n",
              "2   18           0         1  30.030000         1                 1   \n",
              "3   37           0         3  30.676891         1                 0   \n",
              "4   58           0         1  32.010000         1                 1   \n",
              "\n",
              "   region_southwest  region_northwest       charges  \n",
              "0                 0                 0   3279.868550  \n",
              "1                 0                 0  21454.494239  \n",
              "2                 0                 0   1720.353700  \n",
              "3                 0                 0   6801.437542  \n",
              "4                 0                 0  11946.625900  "
            ],
            "text/html": [
              "\n",
              "  <div id=\"df-e3851afc-2408-422d-afc4-e32e6b9ddc8d\">\n",
              "    <div class=\"colab-df-container\">\n",
              "      <div>\n",
              "<style scoped>\n",
              "    .dataframe tbody tr th:only-of-type {\n",
              "        vertical-align: middle;\n",
              "    }\n",
              "\n",
              "    .dataframe tbody tr th {\n",
              "        vertical-align: top;\n",
              "    }\n",
              "\n",
              "    .dataframe thead th {\n",
              "        text-align: right;\n",
              "    }\n",
              "</style>\n",
              "<table border=\"1\" class=\"dataframe\">\n",
              "  <thead>\n",
              "    <tr style=\"text-align: right;\">\n",
              "      <th></th>\n",
              "      <th>age</th>\n",
              "      <th>smoker_yes</th>\n",
              "      <th>children</th>\n",
              "      <th>bmi</th>\n",
              "      <th>sex_male</th>\n",
              "      <th>region_southeast</th>\n",
              "      <th>region_southwest</th>\n",
              "      <th>region_northwest</th>\n",
              "      <th>charges</th>\n",
              "    </tr>\n",
              "  </thead>\n",
              "  <tbody>\n",
              "    <tr>\n",
              "      <th>0</th>\n",
              "      <td>21</td>\n",
              "      <td>0</td>\n",
              "      <td>2</td>\n",
              "      <td>25.745000</td>\n",
              "      <td>1</td>\n",
              "      <td>0</td>\n",
              "      <td>0</td>\n",
              "      <td>0</td>\n",
              "      <td>3279.868550</td>\n",
              "    </tr>\n",
              "    <tr>\n",
              "      <th>1</th>\n",
              "      <td>37</td>\n",
              "      <td>1</td>\n",
              "      <td>3</td>\n",
              "      <td>25.744165</td>\n",
              "      <td>0</td>\n",
              "      <td>1</td>\n",
              "      <td>0</td>\n",
              "      <td>0</td>\n",
              "      <td>21454.494239</td>\n",
              "    </tr>\n",
              "    <tr>\n",
              "      <th>2</th>\n",
              "      <td>18</td>\n",
              "      <td>0</td>\n",
              "      <td>1</td>\n",
              "      <td>30.030000</td>\n",
              "      <td>1</td>\n",
              "      <td>1</td>\n",
              "      <td>0</td>\n",
              "      <td>0</td>\n",
              "      <td>1720.353700</td>\n",
              "    </tr>\n",
              "    <tr>\n",
              "      <th>3</th>\n",
              "      <td>37</td>\n",
              "      <td>0</td>\n",
              "      <td>3</td>\n",
              "      <td>30.676891</td>\n",
              "      <td>1</td>\n",
              "      <td>0</td>\n",
              "      <td>0</td>\n",
              "      <td>0</td>\n",
              "      <td>6801.437542</td>\n",
              "    </tr>\n",
              "    <tr>\n",
              "      <th>4</th>\n",
              "      <td>58</td>\n",
              "      <td>0</td>\n",
              "      <td>1</td>\n",
              "      <td>32.010000</td>\n",
              "      <td>1</td>\n",
              "      <td>1</td>\n",
              "      <td>0</td>\n",
              "      <td>0</td>\n",
              "      <td>11946.625900</td>\n",
              "    </tr>\n",
              "  </tbody>\n",
              "</table>\n",
              "</div>\n",
              "      <button class=\"colab-df-convert\" onclick=\"convertToInteractive('df-e3851afc-2408-422d-afc4-e32e6b9ddc8d')\"\n",
              "              title=\"Convert this dataframe to an interactive table.\"\n",
              "              style=\"display:none;\">\n",
              "        \n",
              "  <svg xmlns=\"http://www.w3.org/2000/svg\" height=\"24px\"viewBox=\"0 0 24 24\"\n",
              "       width=\"24px\">\n",
              "    <path d=\"M0 0h24v24H0V0z\" fill=\"none\"/>\n",
              "    <path d=\"M18.56 5.44l.94 2.06.94-2.06 2.06-.94-2.06-.94-.94-2.06-.94 2.06-2.06.94zm-11 1L8.5 8.5l.94-2.06 2.06-.94-2.06-.94L8.5 2.5l-.94 2.06-2.06.94zm10 10l.94 2.06.94-2.06 2.06-.94-2.06-.94-.94-2.06-.94 2.06-2.06.94z\"/><path d=\"M17.41 7.96l-1.37-1.37c-.4-.4-.92-.59-1.43-.59-.52 0-1.04.2-1.43.59L10.3 9.45l-7.72 7.72c-.78.78-.78 2.05 0 2.83L4 21.41c.39.39.9.59 1.41.59.51 0 1.02-.2 1.41-.59l7.78-7.78 2.81-2.81c.8-.78.8-2.07 0-2.86zM5.41 20L4 18.59l7.72-7.72 1.47 1.35L5.41 20z\"/>\n",
              "  </svg>\n",
              "      </button>\n",
              "      \n",
              "  <style>\n",
              "    .colab-df-container {\n",
              "      display:flex;\n",
              "      flex-wrap:wrap;\n",
              "      gap: 12px;\n",
              "    }\n",
              "\n",
              "    .colab-df-convert {\n",
              "      background-color: #E8F0FE;\n",
              "      border: none;\n",
              "      border-radius: 50%;\n",
              "      cursor: pointer;\n",
              "      display: none;\n",
              "      fill: #1967D2;\n",
              "      height: 32px;\n",
              "      padding: 0 0 0 0;\n",
              "      width: 32px;\n",
              "    }\n",
              "\n",
              "    .colab-df-convert:hover {\n",
              "      background-color: #E2EBFA;\n",
              "      box-shadow: 0px 1px 2px rgba(60, 64, 67, 0.3), 0px 1px 3px 1px rgba(60, 64, 67, 0.15);\n",
              "      fill: #174EA6;\n",
              "    }\n",
              "\n",
              "    [theme=dark] .colab-df-convert {\n",
              "      background-color: #3B4455;\n",
              "      fill: #D2E3FC;\n",
              "    }\n",
              "\n",
              "    [theme=dark] .colab-df-convert:hover {\n",
              "      background-color: #434B5C;\n",
              "      box-shadow: 0px 1px 3px 1px rgba(0, 0, 0, 0.15);\n",
              "      filter: drop-shadow(0px 1px 2px rgba(0, 0, 0, 0.3));\n",
              "      fill: #FFFFFF;\n",
              "    }\n",
              "  </style>\n",
              "\n",
              "      <script>\n",
              "        const buttonEl =\n",
              "          document.querySelector('#df-e3851afc-2408-422d-afc4-e32e6b9ddc8d button.colab-df-convert');\n",
              "        buttonEl.style.display =\n",
              "          google.colab.kernel.accessAllowed ? 'block' : 'none';\n",
              "\n",
              "        async function convertToInteractive(key) {\n",
              "          const element = document.querySelector('#df-e3851afc-2408-422d-afc4-e32e6b9ddc8d');\n",
              "          const dataTable =\n",
              "            await google.colab.kernel.invokeFunction('convertToInteractive',\n",
              "                                                     [key], {});\n",
              "          if (!dataTable) return;\n",
              "\n",
              "          const docLinkHtml = 'Like what you see? Visit the ' +\n",
              "            '<a target=\"_blank\" href=https://colab.research.google.com/notebooks/data_table.ipynb>data table notebook</a>'\n",
              "            + ' to learn more about interactive tables.';\n",
              "          element.innerHTML = '';\n",
              "          dataTable['output_type'] = 'display_data';\n",
              "          await google.colab.output.renderOutput(dataTable, element);\n",
              "          const docLink = document.createElement('div');\n",
              "          docLink.innerHTML = docLinkHtml;\n",
              "          element.appendChild(docLink);\n",
              "        }\n",
              "      </script>\n",
              "    </div>\n",
              "  </div>\n",
              "  "
            ]
          },
          "metadata": {},
          "execution_count": 35
        }
      ]
    },
    {
      "cell_type": "code",
      "source": [
        "X=train_data.iloc[:,:-1]\n",
        "y=train_data.iloc[:,-1]\n"
      ],
      "metadata": {
        "id": "_t1hc7jXWkf0"
      },
      "execution_count": 36,
      "outputs": []
    },
    {
      "cell_type": "code",
      "source": [
        "X.head()"
      ],
      "metadata": {
        "colab": {
          "base_uri": "https://localhost:8080/",
          "height": 206
        },
        "id": "kX3Tu7_GW5OJ",
        "outputId": "1843398c-da33-4379-de3f-352639652f8b"
      },
      "execution_count": 37,
      "outputs": [
        {
          "output_type": "execute_result",
          "data": {
            "text/plain": [
              "   age  smoker_yes  children        bmi  sex_male  region_southeast  \\\n",
              "0   21           0         2  25.745000         1                 0   \n",
              "1   37           1         3  25.744165         0                 1   \n",
              "2   18           0         1  30.030000         1                 1   \n",
              "3   37           0         3  30.676891         1                 0   \n",
              "4   58           0         1  32.010000         1                 1   \n",
              "\n",
              "   region_southwest  region_northwest  \n",
              "0                 0                 0  \n",
              "1                 0                 0  \n",
              "2                 0                 0  \n",
              "3                 0                 0  \n",
              "4                 0                 0  "
            ],
            "text/html": [
              "\n",
              "  <div id=\"df-582cea8b-4d2d-4788-b856-d019739cc5f9\">\n",
              "    <div class=\"colab-df-container\">\n",
              "      <div>\n",
              "<style scoped>\n",
              "    .dataframe tbody tr th:only-of-type {\n",
              "        vertical-align: middle;\n",
              "    }\n",
              "\n",
              "    .dataframe tbody tr th {\n",
              "        vertical-align: top;\n",
              "    }\n",
              "\n",
              "    .dataframe thead th {\n",
              "        text-align: right;\n",
              "    }\n",
              "</style>\n",
              "<table border=\"1\" class=\"dataframe\">\n",
              "  <thead>\n",
              "    <tr style=\"text-align: right;\">\n",
              "      <th></th>\n",
              "      <th>age</th>\n",
              "      <th>smoker_yes</th>\n",
              "      <th>children</th>\n",
              "      <th>bmi</th>\n",
              "      <th>sex_male</th>\n",
              "      <th>region_southeast</th>\n",
              "      <th>region_southwest</th>\n",
              "      <th>region_northwest</th>\n",
              "    </tr>\n",
              "  </thead>\n",
              "  <tbody>\n",
              "    <tr>\n",
              "      <th>0</th>\n",
              "      <td>21</td>\n",
              "      <td>0</td>\n",
              "      <td>2</td>\n",
              "      <td>25.745000</td>\n",
              "      <td>1</td>\n",
              "      <td>0</td>\n",
              "      <td>0</td>\n",
              "      <td>0</td>\n",
              "    </tr>\n",
              "    <tr>\n",
              "      <th>1</th>\n",
              "      <td>37</td>\n",
              "      <td>1</td>\n",
              "      <td>3</td>\n",
              "      <td>25.744165</td>\n",
              "      <td>0</td>\n",
              "      <td>1</td>\n",
              "      <td>0</td>\n",
              "      <td>0</td>\n",
              "    </tr>\n",
              "    <tr>\n",
              "      <th>2</th>\n",
              "      <td>18</td>\n",
              "      <td>0</td>\n",
              "      <td>1</td>\n",
              "      <td>30.030000</td>\n",
              "      <td>1</td>\n",
              "      <td>1</td>\n",
              "      <td>0</td>\n",
              "      <td>0</td>\n",
              "    </tr>\n",
              "    <tr>\n",
              "      <th>3</th>\n",
              "      <td>37</td>\n",
              "      <td>0</td>\n",
              "      <td>3</td>\n",
              "      <td>30.676891</td>\n",
              "      <td>1</td>\n",
              "      <td>0</td>\n",
              "      <td>0</td>\n",
              "      <td>0</td>\n",
              "    </tr>\n",
              "    <tr>\n",
              "      <th>4</th>\n",
              "      <td>58</td>\n",
              "      <td>0</td>\n",
              "      <td>1</td>\n",
              "      <td>32.010000</td>\n",
              "      <td>1</td>\n",
              "      <td>1</td>\n",
              "      <td>0</td>\n",
              "      <td>0</td>\n",
              "    </tr>\n",
              "  </tbody>\n",
              "</table>\n",
              "</div>\n",
              "      <button class=\"colab-df-convert\" onclick=\"convertToInteractive('df-582cea8b-4d2d-4788-b856-d019739cc5f9')\"\n",
              "              title=\"Convert this dataframe to an interactive table.\"\n",
              "              style=\"display:none;\">\n",
              "        \n",
              "  <svg xmlns=\"http://www.w3.org/2000/svg\" height=\"24px\"viewBox=\"0 0 24 24\"\n",
              "       width=\"24px\">\n",
              "    <path d=\"M0 0h24v24H0V0z\" fill=\"none\"/>\n",
              "    <path d=\"M18.56 5.44l.94 2.06.94-2.06 2.06-.94-2.06-.94-.94-2.06-.94 2.06-2.06.94zm-11 1L8.5 8.5l.94-2.06 2.06-.94-2.06-.94L8.5 2.5l-.94 2.06-2.06.94zm10 10l.94 2.06.94-2.06 2.06-.94-2.06-.94-.94-2.06-.94 2.06-2.06.94z\"/><path d=\"M17.41 7.96l-1.37-1.37c-.4-.4-.92-.59-1.43-.59-.52 0-1.04.2-1.43.59L10.3 9.45l-7.72 7.72c-.78.78-.78 2.05 0 2.83L4 21.41c.39.39.9.59 1.41.59.51 0 1.02-.2 1.41-.59l7.78-7.78 2.81-2.81c.8-.78.8-2.07 0-2.86zM5.41 20L4 18.59l7.72-7.72 1.47 1.35L5.41 20z\"/>\n",
              "  </svg>\n",
              "      </button>\n",
              "      \n",
              "  <style>\n",
              "    .colab-df-container {\n",
              "      display:flex;\n",
              "      flex-wrap:wrap;\n",
              "      gap: 12px;\n",
              "    }\n",
              "\n",
              "    .colab-df-convert {\n",
              "      background-color: #E8F0FE;\n",
              "      border: none;\n",
              "      border-radius: 50%;\n",
              "      cursor: pointer;\n",
              "      display: none;\n",
              "      fill: #1967D2;\n",
              "      height: 32px;\n",
              "      padding: 0 0 0 0;\n",
              "      width: 32px;\n",
              "    }\n",
              "\n",
              "    .colab-df-convert:hover {\n",
              "      background-color: #E2EBFA;\n",
              "      box-shadow: 0px 1px 2px rgba(60, 64, 67, 0.3), 0px 1px 3px 1px rgba(60, 64, 67, 0.15);\n",
              "      fill: #174EA6;\n",
              "    }\n",
              "\n",
              "    [theme=dark] .colab-df-convert {\n",
              "      background-color: #3B4455;\n",
              "      fill: #D2E3FC;\n",
              "    }\n",
              "\n",
              "    [theme=dark] .colab-df-convert:hover {\n",
              "      background-color: #434B5C;\n",
              "      box-shadow: 0px 1px 3px 1px rgba(0, 0, 0, 0.15);\n",
              "      filter: drop-shadow(0px 1px 2px rgba(0, 0, 0, 0.3));\n",
              "      fill: #FFFFFF;\n",
              "    }\n",
              "  </style>\n",
              "\n",
              "      <script>\n",
              "        const buttonEl =\n",
              "          document.querySelector('#df-582cea8b-4d2d-4788-b856-d019739cc5f9 button.colab-df-convert');\n",
              "        buttonEl.style.display =\n",
              "          google.colab.kernel.accessAllowed ? 'block' : 'none';\n",
              "\n",
              "        async function convertToInteractive(key) {\n",
              "          const element = document.querySelector('#df-582cea8b-4d2d-4788-b856-d019739cc5f9');\n",
              "          const dataTable =\n",
              "            await google.colab.kernel.invokeFunction('convertToInteractive',\n",
              "                                                     [key], {});\n",
              "          if (!dataTable) return;\n",
              "\n",
              "          const docLinkHtml = 'Like what you see? Visit the ' +\n",
              "            '<a target=\"_blank\" href=https://colab.research.google.com/notebooks/data_table.ipynb>data table notebook</a>'\n",
              "            + ' to learn more about interactive tables.';\n",
              "          element.innerHTML = '';\n",
              "          dataTable['output_type'] = 'display_data';\n",
              "          await google.colab.output.renderOutput(dataTable, element);\n",
              "          const docLink = document.createElement('div');\n",
              "          docLink.innerHTML = docLinkHtml;\n",
              "          element.appendChild(docLink);\n",
              "        }\n",
              "      </script>\n",
              "    </div>\n",
              "  </div>\n",
              "  "
            ]
          },
          "metadata": {},
          "execution_count": 37
        }
      ]
    },
    {
      "cell_type": "code",
      "source": [
        "y.head()"
      ],
      "metadata": {
        "colab": {
          "base_uri": "https://localhost:8080/"
        },
        "id": "ehutEld9W8W4",
        "outputId": "080630fa-b656-41c3-d267-a2b532f37efd"
      },
      "execution_count": 38,
      "outputs": [
        {
          "output_type": "execute_result",
          "data": {
            "text/plain": [
              "0     3279.868550\n",
              "1    21454.494239\n",
              "2     1720.353700\n",
              "3     6801.437542\n",
              "4    11946.625900\n",
              "Name: charges, dtype: float64"
            ]
          },
          "metadata": {},
          "execution_count": 38
        }
      ]
    },
    {
      "cell_type": "code",
      "source": [
        "from sklearn.model_selection import train_test_split\n",
        "X_train,X_test,y_train,y_test=train_test_split(X,y,test_size=0.2,random_state=0)"
      ],
      "metadata": {
        "id": "1lRebmh8W_2V"
      },
      "execution_count": 39,
      "outputs": []
    },
    {
      "cell_type": "code",
      "source": [
        "from sklearn.metrics import mean_absolute_error,r2_score"
      ],
      "metadata": {
        "id": "o_74fsM-XfNI"
      },
      "execution_count": 40,
      "outputs": []
    },
    {
      "cell_type": "code",
      "source": [
        "from sklearn.linear_model import LinearRegression\n",
        "lr=LinearRegression()\n",
        "lrres=lr.fit(X_train,y_train)"
      ],
      "metadata": {
        "id": "GKPPDD97YLi4"
      },
      "execution_count": 42,
      "outputs": []
    },
    {
      "cell_type": "code",
      "source": [
        "y_pred=lrres.predict(X_test)\n",
        "y_pred"
      ],
      "metadata": {
        "colab": {
          "base_uri": "https://localhost:8080/"
        },
        "id": "h7iw1iB1Yi65",
        "outputId": "f43a9187-8564-41d2-abbc-5d5f2198e7a2"
      },
      "execution_count": 51,
      "outputs": [
        {
          "output_type": "execute_result",
          "data": {
            "text/plain": [
              "array([14181.69294196, 11838.74395252, 34088.26906031,  4835.59488033,\n",
              "       14152.5484908 ,  8075.48188533, 14561.40744352,  5922.78101668,\n",
              "       13759.75014382, 12656.61143254, 11356.45928074, 14540.08312541,\n",
              "       13670.93827845, 12003.99415152,  5793.78944418, 11604.54537026,\n",
              "       10804.39006384,  9698.58189191, 10141.5468479 ,  1415.88952807,\n",
              "       15098.49213368, 31698.05835925, 38710.27207544, 26689.97130903,\n",
              "       15332.075343  , 36689.42217872, 10334.15808653, 15656.04262938,\n",
              "        4327.37422664,  7328.84574964,  9785.8873041 , 36351.58457794,\n",
              "        7055.95470715, 31860.10853201,  6005.12085603, 12924.23846079,\n",
              "        6916.50745748,  9131.56219972, 12645.86825904, 10058.65883428,\n",
              "        7688.24367671,  8391.77790238,  9039.93764665,  7786.19780818,\n",
              "       16247.13353578,  9839.47736659,  8476.74453501,  8853.13537653,\n",
              "        3120.25308682, 10509.0846001 , 25386.34531651, 28298.0919837 ,\n",
              "       11827.61965853,  7137.17658928, 10074.6847583 ,  7110.89354007,\n",
              "        2882.32151367,  9736.67388345,  4194.95076163, 13897.31543813,\n",
              "        8892.25000847, 14130.60810719, 12474.07194392,  9805.11706812,\n",
              "        8260.75731164,  8409.4131413 , 29907.55783596,  5516.73865581,\n",
              "       10464.7436973 ,  6736.91995407,  9167.14763104,  8612.30511377,\n",
              "        6253.25290006,  4247.57159586,  5814.02699304,  9598.52150536,\n",
              "       12709.20133633,  5120.58113662,   739.76586358,  1039.41099387,\n",
              "       13630.34854062, 10386.4252069 ,  2779.56421431, 11655.84033172,\n",
              "       11741.03501101,  5652.19179742, 29500.2365612 ,  6250.96033345,\n",
              "       27412.98459674, 12408.96245754, 26780.36452237, 11990.7764274 ,\n",
              "       11848.75715208,  8126.47814436, 34718.29494035, 10752.84522703,\n",
              "        9048.41299871,  9308.57186851, 12842.64025571,  5377.81777375,\n",
              "        9511.72489777, 37994.66648538,  5551.21620195, 28391.78752285,\n",
              "       36691.01639012,  8047.90327276, 32880.59350977, 15769.47313777,\n",
              "       10167.6995983 , 25774.3809105 , 10906.20229887, 12669.52470117,\n",
              "        6604.87712911,  9962.27507344,  5273.42966358, 12108.21570602,\n",
              "       10052.99903663,  1845.17813727, 32412.66230512, 34562.55824951,\n",
              "        9739.17472101,  9898.9961699 , 28836.58745764, 10854.79732484,\n",
              "        7633.30943728,  9628.25117349,  5699.66053886, 30093.12974357,\n",
              "       14544.64143973, 30389.05211673, 26334.81346035, 13550.01139613,\n",
              "       31578.43060802,  3799.70530319, 11794.27826349,  7111.86796822,\n",
              "       10816.94121081,  5734.70451156, 13380.48203626, -1546.8865417 ,\n",
              "       10594.21893728, 11826.12908904, 11240.93919202,  4523.12268332,\n",
              "       13694.74784941,  8771.65598832,  6230.82910431,  9041.21481911,\n",
              "       11205.35838359, 16972.53807191, 13448.22408132,  8069.71618419,\n",
              "        7308.51035987,  9784.10408131, 10760.9307227 ,  2868.43446632,\n",
              "       10494.07576815,  7769.24001872,  5089.35102322,  5287.0355641 ,\n",
              "       10249.56970577,  5931.42310512, 33160.83054239,  9060.61687766,\n",
              "       10132.31336008, 10007.30147909,  7615.66998421,  5889.29830773,\n",
              "        9344.93562367, 14171.81415377, 12416.85504865,  9250.37879977,\n",
              "       14187.48914786,  9250.37879977,  4034.88909596, 23857.34454541,\n",
              "        8511.85383379, 12010.00928703,  9265.07345686,  9945.18901923,\n",
              "        7362.45290438, 14051.47825127,  8382.29006102,  9792.99734646,\n",
              "        6520.90624582, 11251.97584737,  7389.84664787,  1705.07905207,\n",
              "        6480.09978097, 16885.36875879, 28592.41064486,  9839.47736659,\n",
              "       37681.71139671, 12000.75445866, 12426.46172826,  8424.48531536,\n",
              "       11481.42284618, 36351.58457794,  8658.31099726, 13541.86579975,\n",
              "       12351.64992314,  3802.5099179 ,  3392.510746  , 31578.43060802,\n",
              "        6582.60561812, 10305.41913318, 12653.39407937,  9475.87382957,\n",
              "        4543.88590605, 17236.15814704,  9076.37303691, 11807.26171028,\n",
              "       11227.18173843, 11364.08171292,  6816.55249787, 10466.79836315,\n",
              "        3415.2112878 , 11373.83444637,  4991.97696857, 34819.79570462,\n",
              "        6437.62597983,  2606.50216961,  7461.986821  , 30779.41290323,\n",
              "       13575.75575142, 11151.53519777,  5250.96101469,  4421.10135552,\n",
              "       35598.83915272, 13927.1166206 , 10173.19979285,  7269.97821428,\n",
              "        2671.93388039, 10063.66549317,  4249.51831218,  4131.85373782,\n",
              "        8222.22121191,  9986.36233848, 32646.80815263,  7400.0899417 ,\n",
              "       12809.04467202,  2555.72435164, 15136.16662655, 11203.36511387,\n",
              "       12730.41389316, 33937.47197736,  8265.29203469,  9817.93246621,\n",
              "       13193.01158481,  9016.66484751, 12593.25954984, 11993.73420634,\n",
              "        6867.29962644, 13108.70167389, 11436.41127761, 10065.94127372,\n",
              "       14159.95796405,  6553.03606718,  6138.14653075, 10725.87190811,\n",
              "       11425.00091882, 10765.43582459,  8155.25063716,  9240.21491665,\n",
              "       34692.98479287,  7811.08042867, 35710.17784627, 37234.18832258,\n",
              "       10485.51760054,  8658.31099726,  5484.92893977,  9447.1349696 ,\n",
              "       10972.61668627,  3665.73165357,  1283.40858841,  9341.38017847,\n",
              "        6194.06791224,  6736.91995407, 11767.03358862, 14974.87267988,\n",
              "        3964.00074474, 31247.48578244, 31860.10853201, 10912.38787964,\n",
              "       14485.61326069,  4367.74967569, 29472.34461304, 36378.63720607,\n",
              "       29170.72353821, 11498.39556679, 11662.94182599, 13308.64787407,\n",
              "       14157.12086998,  7127.78620626, 10415.31091417,  9117.23036336,\n",
              "       29622.70577667,  5820.13743793,  4691.2706077 ,  2754.19317396,\n",
              "       35334.29159191, 12935.91145509,  5473.99192588, 36691.01639012,\n",
              "        8885.00733819,  6639.52367536,  5986.28282326,  2779.56421431,\n",
              "       10014.67662531,  9977.85616045, 10247.18383284, 13670.93827845,\n",
              "       11886.9084416 , 10464.7436973 ,  7570.59166916, 12178.17598978,\n",
              "       10640.97592218,  6603.3488176 ,  2249.68401116, 10187.52785655,\n",
              "       32107.22749663,  8166.38749625,  6769.19598084,  7106.53221212,\n",
              "        4770.02427777, 32941.22527735, 10922.00394454, 13678.47235437,\n",
              "       31498.01093378,  5277.35861253, 11296.14472936, 13593.87770308,\n",
              "        6408.03976011, 33674.25525547, 10193.30625322, 11671.95709633,\n",
              "        5707.32728934, 12550.63737159, 13054.26458351,  9184.41361224,\n",
              "        7102.46328553, 13714.95059666,  9050.61809188, 10286.58042838,\n",
              "       13657.58565101, 12414.61788987,  5644.81729676, 10514.91835021,\n",
              "       28663.02377171, 14010.29025173,  9731.43763783,  7072.30062626,\n",
              "        9048.41299871, 11350.55313472,  2006.26723783,  6895.21011098,\n",
              "       14244.72354   , 11470.1567991 , 12341.41377555, 10480.5833438 ,\n",
              "       11000.64068011, 31616.83419155,  7120.03959888, 30524.60395327,\n",
              "       12525.98458404, 13597.77584169, 12992.36449528, 11751.98993627,\n",
              "        9806.05830954, 10708.73956907,  9807.52713691, 26981.39070523,\n",
              "       12562.71710055, 39557.1635079 , 13927.1166206 , 35294.76346092,\n",
              "       36505.39779853,  8019.49473282, 12416.06845823, 31239.70575061,\n",
              "       13116.73457728, 37054.18808333,  9072.59450883, 13100.5651046 ,\n",
              "       13101.99440329, 12996.9837465 ,  3695.07595485,  6645.18825813,\n",
              "        6970.22381531, 12881.69492164, 17423.3222789 , 11697.77398396,\n",
              "       12810.8809035 , 29428.59972777,  7156.64237328,  9757.35380063,\n",
              "        6912.53409143, 32899.31274716,  4136.25908887, 11591.15115424,\n",
              "       10578.45622019,  5793.78944418,  6907.12450682, 11405.15672119,\n",
              "       12892.80937211,  9924.00226535, 12611.15685607,  9210.34785909,\n",
              "       12859.65298354, 10618.72443558, 13114.33967276, 11392.7590541 ,\n",
              "       11934.48997233, 12098.58975172,  6264.75482227,  9033.52665656,\n",
              "       14122.02539597,  9619.64081796, 13057.73357912, 36572.49217158,\n",
              "        4599.75567465, 11631.28494309, 35166.34171322, 28380.25367071,\n",
              "       14936.21764017,  5324.66869969, 11647.1010633 , 35988.1422033 ,\n",
              "       40175.27882803,  7232.38219853,  6477.12276468,  7299.12988121,\n",
              "       13367.89023482, 10678.17525464,  5925.77084189, 30903.92384806,\n",
              "       13639.11139574, 10583.34210734, 13630.34854062, 34091.6983287 ,\n",
              "       10197.24714226,  6802.26763296, 32137.57711692, 13341.95080383,\n",
              "        4424.34839054, 12944.86021374,  5435.03478575, 10018.7216965 ,\n",
              "       13029.42852007, 12593.25954984, 12496.65972907, 39013.38496879,\n",
              "        4842.91253517, 33374.82564516, 13157.94119786, 33226.26172474,\n",
              "        9962.50170672,  6041.38053464,  1578.16795079,  2693.59455235,\n",
              "       17700.10506177,  5835.30219615,  3223.53491319, 12325.27408966,\n",
              "        7045.67686019, 13743.52945431, 10685.76858556, 10923.84146802,\n",
              "        9924.00226535,  5545.64080251,    85.81805495, 13553.25235887,\n",
              "       36958.59340336, 17669.05704661, 15617.98161216,  7633.30943728,\n",
              "        9116.44879372, 10674.59086769, 12881.69492164,  6317.82489692,\n",
              "       11693.1667577 , 10425.86382789, 10340.39745209, 13221.88576721,\n",
              "        6868.4530326 ,  3856.32023533, 14325.22816887, 16543.05513206,\n",
              "       11326.12773102,  3458.87854348,  4820.28910909, 25955.85510409,\n",
              "        4926.99950358,  5829.47296366, 11136.67941774,  7604.01862289,\n",
              "       10702.67844563, 37093.26007007, 10586.37584399,  5410.53717157,\n",
              "        8379.92086059, 12774.2585058 , 10496.65176476, 37566.72359488,\n",
              "       11546.54627466,  7644.33460916,  6112.64090552, 13036.33665765,\n",
              "       27799.75354193,  5229.93006749,  9944.36874565, 12656.61143254,\n",
              "       33084.459152  ,  6068.27637457,  6276.58310678, 13921.04533086,\n",
              "        9014.44593392, 39742.53188879,  4249.51831218,  8780.03105858,\n",
              "       32666.05190397,  5986.75119857,  9286.99904863,  8068.55482209,\n",
              "       10788.74939847,  8149.33626017, 29180.18800573, 13094.97999748,\n",
              "        8474.21322253,  7411.7678178 , 14882.44290225, 13702.48704717,\n",
              "       26918.54107866,  8391.09711464,  7594.81603897,  8532.74144355,\n",
              "       32469.03886983,  9106.56182019,  6907.12450682,  6946.70987397,\n",
              "       26403.85851644,  6435.96904197,  4623.47704839,  9643.68265986,\n",
              "       10861.49332102, 11770.98371982, 11680.43480501, 33155.64350643,\n",
              "        3847.56662782, 17383.52198079,  5319.80049983, 28759.57821607,\n",
              "       16717.34158956,  1368.31915746, 29303.80190769, 11135.96395219,\n",
              "        9235.50604454, 12839.83922597,  8706.99959094,  3864.00037859,\n",
              "       14624.32266919, 38765.99855608, 15514.8390718 ,  5972.7710843 ,\n",
              "        3794.8498343 , 10503.25147558,  7242.83286563, 11605.37574587,\n",
              "       13057.52418191, 14247.31710076, 33778.28076317,  9115.86622697,\n",
              "       13118.00270276,  8009.32779893, 11710.44688541,  9406.56473789,\n",
              "        9269.02439007, 29572.14435114,  4064.30392067,  2402.92122813,\n",
              "        5497.50398967, 31340.80648568, 15822.62833542, 28206.07236608,\n",
              "       14540.63278137, 10688.01850773, 10553.98627886,  6869.39660438,\n",
              "       31189.77707445,  9342.08303634,  7097.02328961, 10662.6605348 ,\n",
              "       11210.03333754,  5416.47041282, 32918.10420689, 12390.6208934 ,\n",
              "         944.07121749, 30447.06794073,  5953.42418051, 11282.69847673,\n",
              "        9022.83281526,  7949.06491836,  9364.34034626, 24370.26442769,\n",
              "        8774.75766142,  6167.32462626,  8626.00294566, 11502.21163911,\n",
              "       11610.36358066,  5383.3424655 , 11195.09370676,  5199.16904044,\n",
              "       10527.59214054, 16183.97649818, 11778.96636724, 27202.47782283,\n",
              "       13201.48724212, 15004.37856532, 10438.34391854, 29170.72353821,\n",
              "        9122.50925696,  9894.84422454,  7220.9604593 ,  6223.45052009,\n",
              "       15346.46813634, 11641.64943126,  8756.21184529, 13540.16866519,\n",
              "       14192.75232634, 13422.58846698,  4783.37986742,  5707.32728934,\n",
              "        6724.99201386, 12798.11300533,  4368.80292721,  3975.90718076,\n",
              "       29694.95417405, 12613.37604126, 13486.38416061,  3606.95994749,\n",
              "       10014.43242331, 10490.97620633,  2913.89964085,  6252.20118492,\n",
              "       37213.23249347,  5940.13872148,  5845.77043196, 30761.78887717,\n",
              "       28157.01465328, 16377.0154756 ,  8580.60845829, 12695.74547104,\n",
              "        7332.93962717, 13780.10674275, 33155.64350643, 34707.2366267 ,\n",
              "        5299.34056503, 10789.79578455, 10129.53502234,  1961.9692252 ,\n",
              "        6499.64157995,  5243.26510577, 11280.08607677,  6525.94113577,\n",
              "        8207.98071259, 11702.01917422, 12022.83776899, 10652.36752134,\n",
              "        9555.42464149, 28053.6190569 ,  6310.57670974, 14524.86938236,\n",
              "        8808.03707506, 12957.65179514, 32918.10420689,  4903.29933167,\n",
              "        4034.40718431,  9220.47313845, 11276.11448787, 13903.38301034,\n",
              "       13401.91460535,  7045.67686019,  5984.12717011,  4487.69825415,\n",
              "       17219.83096733, 13413.86444139,  5444.80709395, 31581.29839617,\n",
              "        9555.42464149, 11581.86767777,  9483.73657963, 14110.82646744,\n",
              "       32184.88691297, 37860.84222856, 37982.3036876 ,  7413.23780368,\n",
              "       12583.60609938,  2852.02529639, 11554.42329175, 13945.35592434,\n",
              "        8189.08310926, 12542.49103619,  4549.26290134,  7001.61986271,\n",
              "       11763.44699839,  9895.20535889, 11459.42651049,  5120.58113662,\n",
              "       28053.6190569 ,  9379.63878713, 33158.9969313 , 30390.1396281 ,\n",
              "       14079.32815981, 12474.97189159,  7466.63111932,  5362.98066693,\n",
              "        3933.77012574,  4806.64693937,  5038.86248467,  6144.18211779,\n",
              "        3887.16255983, 13044.49293082, 10985.72800283, 27246.21717843,\n",
              "       12897.89316347, 12921.13028023])"
            ]
          },
          "metadata": {},
          "execution_count": 51
        }
      ]
    },
    {
      "cell_type": "code",
      "source": [
        "print(r2_score(y_test,y_pred))"
      ],
      "metadata": {
        "colab": {
          "base_uri": "https://localhost:8080/"
        },
        "id": "CJTFU4SBZnku",
        "outputId": "0808290f-38c2-4772-e086-ac1ca469a638"
      },
      "execution_count": 52,
      "outputs": [
        {
          "output_type": "stream",
          "name": "stdout",
          "text": [
            "0.7482602892322039\n"
          ]
        }
      ]
    },
    {
      "cell_type": "code",
      "source": [
        "from sklearn.linear_model import Ridge\n",
        "rd=Ridge()\n",
        "rdres=rd.fit(X_train,y_train)\n"
      ],
      "metadata": {
        "id": "i1S-efKpYykN"
      },
      "execution_count": 53,
      "outputs": []
    },
    {
      "cell_type": "code",
      "source": [
        "y_pred=rdres.predict(X_test)\n",
        "y_pred"
      ],
      "metadata": {
        "colab": {
          "base_uri": "https://localhost:8080/"
        },
        "id": "_kykNXYyZJMT",
        "outputId": "2ec37291-7d71-4872-cd18-42ddb7e8cb02"
      },
      "execution_count": 54,
      "outputs": [
        {
          "output_type": "execute_result",
          "data": {
            "text/plain": [
              "array([14187.97604486, 11843.87602565, 34043.59938784,  4845.29940112,\n",
              "       14157.97461296,  8087.43010975, 14570.27275449,  5932.35440289,\n",
              "       13760.53203205, 12676.69147659, 11356.20573157, 14543.11267331,\n",
              "       13671.70014543, 12011.22223211,  5800.87602217, 11604.30625647,\n",
              "       10820.89481345,  9702.85088338, 10145.4553413 ,  1430.98911281,\n",
              "       15116.46062892, 31649.81592033, 38652.40837927, 26633.86230235,\n",
              "       15334.07081675, 36634.95506296, 10336.00288559, 15664.45683457,\n",
              "        4343.54688439,  7348.24432511,  9795.63399772, 36306.72905836,\n",
              "        7057.06487278, 31808.43391431,  6009.81517314, 12924.23469574,\n",
              "        6931.05111878,  9131.18300623, 12656.42994308, 10066.88362494,\n",
              "        7695.57935701,  8396.18318408,  9040.5838553 ,  7790.63502533,\n",
              "       16265.83382577,  9852.20474559,  8485.14636521,  8867.28777746,\n",
              "        3141.83533275, 10518.19109709, 25338.62730154, 28234.68985456,\n",
              "       11832.50536231,  7140.74349984, 10085.29341654,  7117.0289762 ,\n",
              "        2900.74957348,  9751.36341602,  4201.47261341, 13903.32408156,\n",
              "        8904.64138077, 14148.52055011, 12479.42855543,  9818.7506516 ,\n",
              "        8265.83428482,  8418.01877373, 29852.53547229,  5529.043348  ,\n",
              "       10475.961992  ,  6747.71432784,  9173.07687836,  8617.8131574 ,\n",
              "        6252.98799193,  4253.76149715,  5818.61762976,  9613.07832497,\n",
              "       12714.44518654,  5136.34299078,   753.992019  ,  1047.76112093,\n",
              "       13634.19389852, 10395.26232421,  2784.86186016, 11656.68238567,\n",
              "       11748.52674789,  5659.3841269 , 29447.04123136,  6247.17822555,\n",
              "       27357.02753635, 12409.15979042, 26737.64395251, 12004.99503372,\n",
              "       11853.95655987,  8140.35645508, 34671.46241734, 10762.74032805,\n",
              "        9046.14868416,  9315.99168494, 12848.19683863,  5389.17167915,\n",
              "        9519.54435767, 37952.75461707,  5556.38524853, 28351.76467563,\n",
              "       36634.58996504,  8061.39870328, 32822.24802314, 15776.65144803,\n",
              "       10165.32156569, 25726.98201398, 10915.01868387, 12677.40003501,\n",
              "        6618.6711293 ,  9980.91352336,  5288.37552296, 12115.3520017 ,\n",
              "       10052.97144875,  1856.87036996, 32361.507564  , 34515.67547504,\n",
              "        9738.88486167,  9902.77306436, 28786.01597598, 10859.83972492,\n",
              "        7648.72267603,  9627.30029686,  5704.54962521, 30039.95800506,\n",
              "       14553.59189854, 30346.4985651 , 26291.22439439, 13563.39364903,\n",
              "       31519.73911701,  3814.25824996, 11811.76426912,  7118.00393304,\n",
              "       10816.39493927,  5738.2532715 , 13390.6127083 , -1533.91262053,\n",
              "       10598.55561074, 11827.58170722, 11240.62296595,  4530.00051243,\n",
              "       13700.64658722,  8772.27680422,  6235.12771038,  9057.81953167,\n",
              "       11210.02663849, 16981.5463915 , 13460.53425903,  8086.8637176 ,\n",
              "        7320.41953749,  9782.479259  , 10769.66828877,  2886.82906912,\n",
              "       10501.9475475 ,  7780.31766928,  5095.0607051 ,  5286.82547967,\n",
              "       10257.42899212,  5947.60463968, 33108.5657348 ,  9070.7493328 ,\n",
              "       10150.77414082, 10015.14948661,  7627.39689662,  5912.98376851,\n",
              "        9362.90679244, 14195.18672384, 12436.13018325,  9264.74673015,\n",
              "       14196.06790567,  9264.74673015,  4051.20580616, 23809.38620399,\n",
              "        8525.12031911, 12013.57634366,  9265.84181579,  9958.6947546 ,\n",
              "        7377.86894523, 14062.69398198,  8393.53398817,  9803.85117667,\n",
              "        6519.47110849, 11261.5409237 ,  7396.01326668,  1719.45686775,\n",
              "        6496.03592932, 16885.47131845, 28548.0411346 ,  9852.20474559,\n",
              "       37642.40290822, 12002.54215577, 12426.6685556 ,  8441.23608098,\n",
              "       11500.79128452, 36306.72905836,  8661.89540972, 13547.74349135,\n",
              "       12356.6997793 ,  3818.70054783,  3407.33501369, 31519.73911701,\n",
              "        6593.89219524, 10309.77703816, 12653.12319741,  9493.3152062 ,\n",
              "        4553.19182272, 17243.19491044,  9083.83612429, 11818.80172994,\n",
              "       11231.86183388, 11377.6362853 ,  6831.43201981, 10468.71512787,\n",
              "        3431.19178395, 11385.37963831,  5002.38894794, 34776.36409925,\n",
              "        6439.49150485,  2618.54971165,  7468.19258037, 30735.98964502,\n",
              "       13585.99237169, 11149.33045703,  5256.20748774,  4430.94148819,\n",
              "       35552.00371267, 13933.14143304, 10181.13781061,  7279.25930261,\n",
              "        2686.06909962, 10076.51450827,  4272.07375584,  4147.62222309,\n",
              "        8232.86011977,  9990.18663456, 32598.23930187,  7412.57530194,\n",
              "       12814.3426935 ,  2566.22834891, 15145.95619675, 11211.62172714,\n",
              "       12736.18365709, 33883.55459286,  8285.75335066,  9839.774611  ,\n",
              "       13209.61064263,  9029.12372266, 12598.6808281 , 11998.71003766,\n",
              "        6875.88156895, 13116.26062905, 11444.33857134, 10069.80874636,\n",
              "       14158.2119773 ,  6563.70576665,  6156.15215368, 10724.75805386,\n",
              "       11424.42405719, 10774.17583496,  8171.48324345,  9252.66333282,\n",
              "       34645.65787006,  7817.80792903, 35658.43327411, 37187.75949447,\n",
              "       10497.06149237,  8661.89540972,  5500.95088568,  9450.90703477,\n",
              "       10972.60738113,  3671.7260371 ,  1295.09876987,  9349.34754941,\n",
              "        6210.75244865,  6747.71432784, 11771.88642065, 14974.17900943,\n",
              "        3970.51745853, 31206.60899319, 31808.43391431, 10929.88765397,\n",
              "       14506.13099311,  4378.66414068, 29427.60201436, 36317.73411368,\n",
              "       29124.37528883, 11501.68504092, 11661.25488912, 13314.45729532,\n",
              "       14163.390641  ,  7144.42268363, 10419.97292128,  9118.29473602,\n",
              "       29575.30582625,  5824.97172368,  4707.30612386,  2759.85933221,\n",
              "       35286.43394573, 12936.84719352,  5493.65978783, 36634.58996504,\n",
              "        8890.66333986,  6650.10855087,  5997.71494331,  2784.86186016,\n",
              "       10023.43221258,  9981.67584139, 10265.76469466, 13671.70014543,\n",
              "       11891.94648011, 10475.961992  ,  7576.97652032, 12185.78473617,\n",
              "       10659.11184992,  6609.78154847,  2267.26223561, 10195.47364818,\n",
              "       32044.45005983,  8165.60480188,  6775.14602463,  7109.60182873,\n",
              "        4782.40449808, 32898.09626531, 10921.51467612, 13693.61822353,\n",
              "       31456.6692358 ,  5282.37907421, 11300.86224154, 13601.21922917,\n",
              "        6422.18737896, 33629.12062085, 10208.81620702, 11689.86898455,\n",
              "        5711.70236346, 12548.13839443, 13070.23370267,  9197.14607869,\n",
              "        7117.25759826, 13717.307852  ,  9055.6211694 , 10297.89621748,\n",
              "       13677.17345912, 12431.21287757,  5649.6766272 , 10519.87058909,\n",
              "       28612.11778714, 14017.51293441,  9737.43271411,  7082.01288619,\n",
              "        9046.14868416, 11374.55799745,  2023.97964957,  6911.84056811,\n",
              "       14251.43507866, 11474.72839001, 12356.01678373, 10484.73819597,\n",
              "       10998.02173381, 31568.66785029,  7118.80936207, 30463.61151503,\n",
              "       12536.55521594, 13617.82344872, 12998.00231297, 11756.53186223,\n",
              "        9806.49757516, 10707.49625259,  9811.37457055, 26925.31964498,\n",
              "       12567.88147388, 39497.74463148, 13933.14143304, 35243.97944178,\n",
              "       36455.26195424,  8032.85458306, 12425.67587547, 31183.44598639,\n",
              "       13128.31024143, 37002.81222035,  9080.88513212, 13101.34984423,\n",
              "       13107.45136835, 13004.85831555,  3700.02915514,  6656.85770881,\n",
              "        6977.53042544, 12897.20991035, 17431.03740537, 11707.94143431,\n",
              "       12824.18512793, 29382.27122552,  7164.05012715,  9765.18636274,\n",
              "        6922.03950115, 32850.59438764,  4151.36671978, 11591.8379434 ,\n",
              "       10582.4238408 ,  5800.87602217,  6916.56922486, 11422.80368663,\n",
              "       12890.37587784,  9932.28574529, 12616.58784473,  9223.77890987,\n",
              "       12876.46917848, 10636.96845737, 13119.56300218, 11392.52519983,\n",
              "       11943.26343351, 12103.4440419 ,  6275.11458502,  9041.32699768,\n",
              "       14132.55840175,  9627.75916274, 13069.27723154, 36509.64208129,\n",
              "        4606.42316619, 11636.30445671, 35118.41886611, 28329.07409879,\n",
              "       14953.96634243,  5329.23416259, 11655.95893171, 35933.89543353,\n",
              "       40113.06163975,  7235.03942919,  6481.55500049,  7304.76661303,\n",
              "       13372.35169827, 10695.4901973 ,  5933.59227261, 30845.189391  ,\n",
              "       13639.85599464, 10587.67287944, 13634.19389852, 34043.92500344,\n",
              "       10205.66729263,  6806.51577965, 32097.54375859, 13352.84398167,\n",
              "        4430.29810115, 12941.49362541,  5440.38113036, 10022.80388329,\n",
              "       13029.96249467, 12598.6808281 , 12502.6631673 , 38950.89788088,\n",
              "        4866.0302661 , 33315.50913734, 13165.84119453, 33166.50411109,\n",
              "        9973.42572649,  6054.72838357,  1596.50084194,  2711.65395982,\n",
              "       17712.84565611,  5839.904376  ,  3243.06326296, 12337.0951635 ,\n",
              "        7044.40627694, 13760.52246366, 10686.68514913, 10935.66935262,\n",
              "        9932.28574529,  5550.20598977,    99.63164606, 13564.26018104,\n",
              "       36910.65570778, 17671.11881074, 15617.6368686 ,  7648.72267603,\n",
              "        9114.101226  , 10679.38940518, 12897.20991035,  6328.60731332,\n",
              "       11693.33622716, 10430.64758225, 10340.40562899, 13221.44266015,\n",
              "        6881.64878587,  3878.90267812, 14331.46898176, 16556.80411581,\n",
              "       11325.97789194,  3474.5799879 ,  4833.05710181, 25892.02333273,\n",
              "        4940.82423275,  5834.07198078, 11148.84653127,  7617.21546153,\n",
              "       10711.38440619, 37044.91477214, 10590.70826208,  5431.01177338,\n",
              "        8385.42298806, 12779.77798733, 10500.69516819, 37517.04341947,\n",
              "       11543.50251517,  7662.55659918,  6123.90124903, 13036.51387976,\n",
              "       27756.95929776,  5244.51998978,  9955.25852974, 12676.69147659,\n",
              "       33021.39892132,  6073.72595869,  6271.72405937, 13922.15506555,\n",
              "        9020.17216414, 39682.61275201,  4272.07375584,  8796.37389572,\n",
              "       32618.94707856,  5991.55571586,  9301.86751525,  8080.84820669,\n",
              "       10792.25467941,  8157.4864586 , 29134.92639319, 13102.78756877,\n",
              "        8480.45934593,  7419.09805691, 14890.43738111, 13707.54881594,\n",
              "       26863.60109938,  8393.78218643,  7610.71865197,  8538.56681949,\n",
              "       32418.6653096 ,  9114.40178746,  6916.56922486,  6965.07153077,\n",
              "       26340.14964814,  6448.3379814 ,  4630.1689923 ,  9642.74015577,\n",
              "       10874.34071486, 11772.40641819, 11693.72652591, 33115.91283949,\n",
              "        3860.22511488, 17394.41071522,  5339.92312736, 28712.59730751,\n",
              "       16727.86887939,  1380.1755751 , 29256.3490988 , 11141.85812678,\n",
              "        9254.62884923, 12845.15395542,  8723.0624702 ,  3869.88639902,\n",
              "       14640.67455782, 38725.10601807, 15523.20106263,  5991.52814874,\n",
              "        3812.18490626, 10502.9875104 ,  7260.98310508, 11610.26103526,\n",
              "       13065.43159793, 14253.51564201, 33726.95179533,  9131.63277009,\n",
              "       13123.70868706,  8022.62437633, 11722.43529659,  9416.21006483,\n",
              "        9269.79489263, 29529.61666128,  4083.34735759,  2415.21881535,\n",
              "        5512.50901319, 31297.65031421, 15834.79344399, 28153.76296271,\n",
              "       14559.95277429, 10706.83854998, 10556.88351864,  6880.35811612,\n",
              "       31137.60701102,  9354.18004716,  7111.8146508 , 10677.88671863,\n",
              "       11209.21967567,  5429.20137067, 32867.58420027, 12406.83077859,\n",
              "         958.03613873, 30388.96428322,  5966.84447447, 11291.11830018,\n",
              "        9022.03412868,  7956.15670417,  9382.65437913, 24322.89870344,\n",
              "        8780.35384573,  6178.62622115,  8643.43571678, 11502.27750345,\n",
              "       11619.44185041,  5388.99309962, 11194.2719392 ,  5203.90674564,\n",
              "       10531.89266479, 16207.96012495, 11783.94584042, 27146.28638246,\n",
              "       13208.11342717, 15016.49772717, 10447.209205  , 29124.37528883,\n",
              "        9130.70679527,  9899.21970063,  7219.78497838,  6240.27116527,\n",
              "       15361.43749595, 11650.38417496,  8768.15732573, 13538.32673763,\n",
              "       14198.02182976, 13420.44241107,  4789.98064513,  5711.70236346,\n",
              "        6731.86282642, 12803.64542943,  4381.5298063 ,  3998.55450696,\n",
              "       29641.98880281, 12618.80823397, 13495.9756021 ,  3625.55241737,\n",
              "       10022.16413295, 10495.79528823,  2928.46423203,  6257.87072664,\n",
              "       37160.86142027,  5944.91794858,  5851.21945953, 30701.56346538,\n",
              "       28104.77702271, 16387.35811719,  8586.21947135, 12700.98202061,\n",
              "        7349.90182444, 13786.17195998, 33115.91283949, 34665.34362466,\n",
              "        5303.89228583, 10795.59414332, 10136.93532255,  1973.42673401,\n",
              "        6514.24557372,  5255.10709544, 11284.79487613,  6524.50873018,\n",
              "        8224.60242885, 11721.62746675, 12020.53309493, 10665.10145132,\n",
              "        9555.8480895 , 28004.79510906,  6317.18931681, 14525.13322557,\n",
              "        8827.01061345, 12970.29664096, 32867.58420027,  4921.11564007,\n",
              "        4053.43440038,  9235.84169235, 11285.01140655, 13904.60332898,\n",
              "       13410.88340202,  7044.40627694,  5982.85329919,  4504.7788136 ,\n",
              "       17231.92870511, 13424.3778713 ,  5449.79824006, 31540.11271403,\n",
              "        9555.8480895 , 11598.3972693 ,  9494.9975284 , 14126.56741638,\n",
              "       32131.82633866, 37816.07299261, 37937.25143355,  7418.45577875,\n",
              "       12595.37317538,  2857.6983601 , 11570.19106938, 13953.7668219 ,\n",
              "        8190.60523878, 12543.69398685,  4559.59133526,  7011.52252559,\n",
              "       11772.72849236,  9900.54651106, 11468.54305429,  5136.34299078,\n",
              "       28004.79510906,  9402.45413847, 33111.79905886, 30336.81471007,\n",
              "       14085.43555654, 12486.99435272,  7489.97071335,  5367.56691648,\n",
              "        3939.4536669 ,  4815.07218357,  5055.20675808,  6144.95526098,\n",
              "        3906.81063546, 13050.15903146, 10993.97511915, 27203.10235391,\n",
              "       12895.58259434, 12932.27580402])"
            ]
          },
          "metadata": {},
          "execution_count": 54
        }
      ]
    },
    {
      "cell_type": "code",
      "source": [
        "print(r2_score(y_test,y_pred))"
      ],
      "metadata": {
        "colab": {
          "base_uri": "https://localhost:8080/"
        },
        "id": "aRiLOII3ZiOx",
        "outputId": "c4374da0-64d6-4d81-81cf-0b27f8919edf"
      },
      "execution_count": 55,
      "outputs": [
        {
          "output_type": "stream",
          "name": "stdout",
          "text": [
            "0.748102888431925\n"
          ]
        }
      ]
    },
    {
      "cell_type": "code",
      "source": [
        "from sklearn.linear_model import Lasso\n",
        "Lasso=Lasso()\n",
        "Lasso=Lasso.fit(X_train,y_train)"
      ],
      "metadata": {
        "id": "8Jd4wj3SaAhC"
      },
      "execution_count": 56,
      "outputs": []
    },
    {
      "cell_type": "code",
      "source": [
        "y_pred=Lasso.predict(X_test)"
      ],
      "metadata": {
        "id": "cBURcVrOa6mn"
      },
      "execution_count": 58,
      "outputs": []
    },
    {
      "cell_type": "code",
      "source": [
        "y_pred"
      ],
      "metadata": {
        "colab": {
          "base_uri": "https://localhost:8080/"
        },
        "id": "2-QMOVp6bCzt",
        "outputId": "c16c9478-d7e8-48b2-afe7-66aedc12f259"
      },
      "execution_count": 59,
      "outputs": [
        {
          "output_type": "execute_result",
          "data": {
            "text/plain": [
              "array([14185.06369006, 11842.55358278, 34089.09875086,  4825.99263572,\n",
              "       14156.03458273,  8082.16632271, 14563.87817266,  5913.06186831,\n",
              "       13749.01543183, 12661.928833  , 11342.62824986, 14543.30234964,\n",
              "       13656.68955876, 12005.81270155,  5799.0272895 , 11590.68187849,\n",
              "       10811.56775971,  9702.52496264, 10145.48232934,  1422.71027375,\n",
              "       15102.36010828, 31695.83227   , 38692.89706541, 26688.72391209,\n",
              "       15320.98857668, 36670.68756315, 10321.36033116, 15660.13465074,\n",
              "        4335.1506711 ,  7335.55798091,  9775.66939915, 36348.63196727,\n",
              "        7046.00348072, 31858.58362476,  6008.00921905, 12910.18161706,\n",
              "        6920.89252786,  9118.02178841, 12651.88144852, 10061.76808602,\n",
              "        7693.45843073,  8380.0665662 ,  9044.14559636,  7774.55694989,\n",
              "       16251.65668125,  9846.08567309,  8479.3764045 ,  8857.33276382,\n",
              "        3127.48802523, 10513.72074703, 25387.46419641, 28281.54167654,\n",
              "       11831.46278688,  7128.07588536, 10081.00874006,  7113.45768419,\n",
              "        2889.70836933,  9740.44942736,  4200.70221486, 13900.75702783,\n",
              "        8898.77598586, 14135.49486685, 12477.77398506,  9809.91404997,\n",
              "        8263.3177515 ,  8412.02673377, 29889.73154157,  5523.9348915 ,\n",
              "       10468.59343553,  6742.98184406,  9169.48521363,  8614.76601049,\n",
              "        6257.92314071,  4253.35985002,  5816.95242991,  9602.57428138,\n",
              "       12712.88910024,  5128.31338174,   748.23833469,  1047.14315722,\n",
              "       13620.41119425, 10388.76493173,  2771.95582548, 11645.35709681,\n",
              "       11745.72987788,  5657.67620338, 29499.20082913,  6240.56539153,\n",
              "       27411.62826892, 12394.94290199, 26780.3863099 , 11995.22772237,\n",
              "       11836.51616186,  8130.80083942, 34714.62055225, 10759.17866932,\n",
              "        9037.47532708,  9314.22521229, 12846.27079146,  5381.38465346,\n",
              "        9514.06224225, 37992.30839284,  5554.09860672, 28391.54762344,\n",
              "       36674.88374323,  8054.38935142, 32861.65320955, 15760.01840308,\n",
              "       10156.63879516, 25776.30252529, 10908.23776296, 12674.05510305,\n",
              "        6611.50213771,  9970.21632773,  5281.49237372, 12113.56094407,\n",
              "       10042.82676661,  1852.66388836, 32408.89772826, 34562.68007304,\n",
              "        9725.54776757,  9902.97870824, 28833.18760112, 10857.04253807,\n",
              "        7637.49276221,  9614.72408986,  5702.56115398, 30092.26075441,\n",
              "       14548.55762359, 30387.71515009, 26336.45791019, 13554.37956535,\n",
              "       31559.6959287 ,  3808.6501763 , 11799.50860151,  7114.43192329,\n",
              "       10803.21485103,  5740.12225612, 13385.56870692, -1537.07675346,\n",
              "       10598.28568595, 11813.19857795, 11227.13057302,  4528.54436909,\n",
              "       13698.22873895,  8775.90031703,  6236.08791671,  9046.0072382 ,\n",
              "       11209.30656599, 16976.39035185, 13450.91442096,  8075.4497399 ,\n",
              "        7312.65903554,  9772.99233946, 10762.99437072,  2877.28188809,\n",
              "       10496.28520793,  7773.44033836,  5081.4042056 ,  5277.47453291,\n",
              "       10251.81091188,  5936.89691039, 33157.76778139,  9066.47866962,\n",
              "       10136.97215678, 10009.57401736,  7618.91239106,  5895.91767803,\n",
              "        9349.51241895, 14177.45344283, 12422.9562412 ,  9254.49911845,\n",
              "       14191.74072161,  9254.49911845,  4042.92570458, 23859.57540186,\n",
              "        8518.31258184, 12000.30795061,  9269.2377283 ,  9951.68279713,\n",
              "        7369.95391644, 14056.3407233 ,  8385.74385596,  9796.97740922,\n",
              "        6507.82531425, 11258.29080374,  7392.37234264,  1714.30494104,\n",
              "        6485.29505861, 16870.80981092, 28591.53193157,  9846.08567309,\n",
              "       37680.23329056, 11987.75872888, 12412.43877771,  8429.33470549,\n",
              "       11487.62717088, 36348.63196727,  8662.47155936, 13529.32767188,\n",
              "       12355.40705508,  3810.59161007,  3400.57825153, 31559.6959287 ,\n",
              "        6586.03277834, 10309.27581218, 12639.4054517 ,  9480.50357141,\n",
              "        4534.37159535, 17238.81123296,  9078.81051331, 11810.25474069,\n",
              "       11231.12568692, 11370.39423315,  6824.19075914, 10453.97487444,\n",
              "        3423.3681192 , 11376.88022549,  4996.60641137, 34820.3737832 ,\n",
              "        6428.83336402,  2614.0906467 ,  7464.49851996, 30778.14123272,\n",
              "       13580.80453731, 11140.33053193,  5253.87033166,  4411.53251638,\n",
              "       35595.05661129, 13930.55242862, 10175.44014544,  7276.1717355 ,\n",
              "        2680.42295323, 10070.23030525,  4256.48715367,  4139.94988416,\n",
              "        8228.12030028,  9990.32792704, 32644.50768739,  7407.03048073,\n",
              "       12812.71306547,  2564.16964694, 15137.55381077, 11205.43694547,\n",
              "       12721.51742203, 33919.00487467,  8271.10098001,  9823.12707691,\n",
              "       13199.88256709,  9023.16668735, 12596.93846758, 11997.54510704,\n",
              "        6873.63395049, 13113.86847907, 11441.08689439, 10069.89142329,\n",
              "       14144.79509995,  6556.54731383,  6146.64165936, 10714.57745526,\n",
              "       11411.20360009, 10767.49859858,  8161.09295797,  9247.58274286,\n",
              "       34689.37799491,  7817.00862864, 35692.38980314, 37230.1511892 ,\n",
              "       10488.67304096,  8662.47155936,  5492.82525774,  9451.17383299,\n",
              "       10962.32868233,  3671.6171197 ,  1291.20674713,  9343.7192314 ,\n",
              "        6199.44375236,  6742.98184406, 11770.88847118, 14960.65304468,\n",
              "        3969.78133431, 31247.00525197, 31858.58362476, 10916.83294512,\n",
              "       14491.29742655,  4372.39053434, 29470.22519561, 36358.41836423,\n",
              "       29168.85067711, 11488.7934878 , 11651.60660303, 13312.18800036,\n",
              "       14160.49638527,  7133.70250443, 10403.31668488,  9104.6843723 ,\n",
              "       29623.50391486,  5823.03034944,  4697.56559106,  2760.88307408,\n",
              "       35333.02162348, 12925.25822514,  5480.24838762, 36674.88374323,\n",
              "        8887.41532834,  6643.92749966,  5990.65668248,  2771.95582548,\n",
              "       10017.0728026 ,  9981.82339927, 10251.56991433, 13656.68955876,\n",
              "       11890.72439747, 10468.59343553,  7573.06662791, 12182.80171751,\n",
              "       10645.61438369,  6609.46431799,  2258.71415556, 10189.76542937,\n",
              "       32090.12622393,  8153.01866714,  6771.8264172 ,  7097.50013322,\n",
              "        4777.30270267, 32941.9954453 , 10908.2572017 , 13681.70253488,\n",
              "       31497.56014898,  5280.29414801, 11300.07529844, 13599.01305971,\n",
              "        6412.53914751, 33675.19660812, 10200.44609482, 11676.25479889,\n",
              "        5712.64065575, 12535.77105948, 13061.88409127,  9191.10199688,\n",
              "        7110.07741754, 13701.66930801,  9038.74759521, 10289.79013425,\n",
              "       13663.49314105, 12421.342448  ,  5647.72855193, 10518.67170482,\n",
              "       28659.68892789, 13998.69989508,  9733.69708322,  7078.21938949,\n",
              "        9037.47532708, 11356.45771361,  2013.85539538,  6901.15586096,\n",
              "       14235.51760993, 11474.08494823, 12345.12244632, 10484.68780869,\n",
              "       10985.98106096, 31614.60819054,  7106.85810025, 30507.4649844 ,\n",
              "       12531.36210435, 13602.73856854, 12995.96598324, 11755.64431787,\n",
              "        9795.85559844, 10697.46410998,  9811.51175108, 26980.10244038,\n",
              "       12566.43328365, 39536.3593447 , 13930.55242862, 35293.59124784,\n",
              "       36500.99589543,  8026.00199292, 12421.34223334, 31224.22328612,\n",
              "       13120.21083609, 37036.18630055,  9075.81671577, 13089.91127032,\n",
              "       13105.60596199, 12985.43328058,  3687.3996385 ,  6649.44995402,\n",
              "        6975.53086151, 12889.3949192 , 17413.59369318, 11703.95544188,\n",
              "       12817.69701947, 29426.69250642,  7161.91325268,  9759.65916095,\n",
              "        6918.49952067, 32896.35137607,  4144.19797081, 11580.69613952,\n",
              "       10582.57303679,  5799.0272895 ,  6913.34141494, 11409.52185525,\n",
              "       12877.89234565,  9926.22828463, 12614.83230157,  9215.24456131,\n",
              "       12864.19007148, 10623.35154414, 13117.98017625, 11378.92098075,\n",
              "       11936.40428952, 12086.3629716 ,  6254.89097838,  9035.92543571,\n",
              "       14126.96820088,  9621.92588595, 13061.22128462, 36551.32243017,\n",
              "        4606.08751988, 11635.13482217, 35163.64645659, 28376.98935665,\n",
              "       14941.0264544 ,  5327.65773636, 11649.03979651, 35969.46529235,\n",
              "       40153.58248458,  7223.38838342,  6482.33379401,  7301.73585556,\n",
              "       13355.55822902, 10682.91618873,  5931.13949143, 30887.62457795,\n",
              "       13624.86885074, 10587.41096621, 13620.41119425, 34088.22385538,\n",
              "       10200.31383675,  6807.46259122, 32136.87689132, 13347.18568967,\n",
              "        4416.45223942, 12930.05844848,  5437.90839083, 10022.64966719,\n",
              "       13015.28858881, 12596.93846758, 12487.76159843, 38991.86703285,\n",
              "        4849.73491324, 33358.29771802, 13162.40818264, 33209.80963008,\n",
              "        9952.10850762,  6046.02940675,  1584.83578664,  2702.50723444,\n",
              "       17702.8644769 ,  5838.22350545,  3230.08695335, 12328.16662125,\n",
              "        7032.50978857, 13747.69164311, 10675.39520316, 10927.55512755,\n",
              "        9926.22828463,  5548.60263865,    94.66782688, 13558.4462504 ,\n",
              "       36957.13366602, 17657.67358528, 15603.63720833,  7637.49276221,\n",
              "        9105.51359252, 10678.34458434, 12889.3949192 ,  6321.35043667,\n",
              "       11679.23906281, 10429.65012977, 10330.18509426, 13207.84952705,\n",
              "        6873.01979527,  3863.33402073, 14328.58673984, 16545.17638794,\n",
              "       11312.28691478,  3466.82348351,  4827.51077237, 25939.64952132,\n",
              "        4931.72354568,  5832.39540387, 11142.95799592,  7610.84124832,\n",
              "       10704.75339508, 37091.836886  , 10590.4441143 ,  5416.6962545 ,\n",
              "        8382.4111719 , 12777.90230819, 10500.76878218, 37562.13145545,\n",
              "       11531.87476479,  7652.61587412,  6117.02159008, 13022.24239597,\n",
              "       27801.11378089,  5234.51698877,  9947.67618338, 12661.928833  ,\n",
              "       33063.74673963,  6071.05846525,  6265.14454426, 13910.24798634,\n",
              "        9016.82881189, 39721.77011223,  4256.48715367,  8784.88981948,\n",
              "       32662.66597897,  5989.62745553,  9291.04958292,  8076.08728061,\n",
              "       10779.20664721,  8152.69057728, 29178.172279  , 13083.42618938,\n",
              "        8480.12245864,  7403.32342169, 14886.68500855, 13706.07612481,\n",
              "       26915.41567646,  8381.95684863,  7602.22496078,  8535.17076648,\n",
              "       32468.45014439,  9108.94642989,  6913.34141494,  6952.71224538,\n",
              "       26387.58168712,  6443.69287656,  4628.91060443,  9630.15258239,\n",
              "       10868.60928514, 11758.0639074 , 11687.39188748, 33153.59742813,\n",
              "        3854.67956838, 17384.48882882,  5325.7737669 , 28761.07737649,\n",
              "       16718.43768228,  1376.08517287, 29304.64624601, 11123.72022049,\n",
              "        9241.12704971, 12843.50164501,  8711.90386045,  3856.1815999 ,\n",
              "       14630.80656498, 38763.41246884, 15505.26136897,  5981.18860759,\n",
              "        3803.72123278, 10493.0545325 ,  7249.71848352, 11609.24632149,\n",
              "       13045.96197062, 14250.69078714, 33775.01986186,  9123.10541156,\n",
              "       13121.57981585,  8016.08746086, 11715.49714855,  9413.09669032,\n",
              "        9273.187895  , 29571.79687888,  4072.91933356,  2410.50219185,\n",
              "        5505.28846805, 31341.77745897, 15828.04087625, 28203.62613181,\n",
              "       14547.92084427, 10692.31906352, 10544.5517534 ,  6872.83080445,\n",
              "       31189.2915742 ,  9348.8348514 ,  7104.63847703, 10670.02242679,\n",
              "       11196.2933943 ,  5423.62342165, 32914.19456016, 12398.29080401,\n",
              "         953.44474847, 30428.39605604,  5958.07444696, 11284.73924704,\n",
              "        9009.3605082 ,  7951.68976228,  9372.397605  , 24371.70550581,\n",
              "        8777.18704095,  6170.80101466,  8634.26612791, 11488.32099114,\n",
              "       11612.27810138,  5389.71032748, 11181.35666193,  5202.15108524,\n",
              "       10531.67181538, 16189.28809033, 11782.8032648 , 27201.17800507,\n",
              "       13192.42102905, 15007.55128484, 10440.67357069, 29168.85067711,\n",
              "        9125.73744995,  9898.7492187 ,  7207.75938117,  6228.8049898 ,\n",
              "       15349.51574087, 11643.60489208,  8763.7049121 , 13525.09470562,\n",
              "       14180.21328044, 13407.56865885,  4789.04850025,  5712.64065575,\n",
              "        6730.14321757, 12801.75217975,  4374.38821145,  3982.89776528,\n",
              "       29678.0667467 , 12617.05105622, 13475.73038657,  3613.34386994,\n",
              "       10016.71924805, 10494.74987586,  2922.06000101,  6254.93192268,\n",
              "       37195.34088416,  5943.02402166,  5848.58002076, 30742.17398376,\n",
              "       28140.22189012, 16378.17759449,  8583.05983449, 12699.43584551,\n",
              "        7340.24265586, 13783.555402  , 33153.59742813, 34705.28127455,\n",
              "        5302.33451557, 10781.13478045, 10118.39983651,  1969.71408706,\n",
              "        6504.71944367,  5251.20466516, 11284.01976137,  6512.85922738,\n",
              "        8213.7657935 , 11708.16503141, 12008.01117475, 10659.52405764,\n",
              "        9545.25488552, 28051.26872304,  6302.36162404, 14510.58035226,\n",
              "        8816.07690187, 12960.3589603 , 32914.19456016,  4911.97135142,\n",
              "        4043.02839743,  9226.29683627, 11278.09385578, 13892.57342253,\n",
              "       13403.62257933,  7032.50978857,  5974.61893646,  4493.23277522,\n",
              "       17208.39019299, 13403.09937729,  5447.72581294, 31579.63610394,\n",
              "        9545.25488552, 11587.24891483,  9489.15616382, 14113.92575774,\n",
              "       32183.50270513, 37858.5845157 , 37979.17573295,  7415.88431988,\n",
              "       12587.12310991,  2858.05295857, 11561.36174478, 13947.96184268,\n",
              "        8176.59182718, 12531.85145341,  4555.65519584,  7008.41468578,\n",
              "       11765.31614969,  9883.18667502, 11461.35464435,  5128.31338174,\n",
              "       28051.26872304,  9385.94141017, 33155.56238057, 30389.90328398,\n",
              "       14082.73443748, 12477.81971059,  7473.10117297,  5365.96227075,\n",
              "        3925.969151  ,  4813.25568812,  5045.07436231,  6132.04055414,\n",
              "        3893.61719044, 13048.08430543, 10988.72007499, 27245.58367858,\n",
              "       12882.95948077, 12926.38412909])"
            ]
          },
          "metadata": {},
          "execution_count": 59
        }
      ]
    },
    {
      "cell_type": "code",
      "source": [
        "print(r2_score(y_test,y_pred))"
      ],
      "metadata": {
        "colab": {
          "base_uri": "https://localhost:8080/"
        },
        "id": "tO1MiNE9bJX7",
        "outputId": "490cb01a-7e66-4d16-f656-f0a47dc36d5e"
      },
      "execution_count": 60,
      "outputs": [
        {
          "output_type": "stream",
          "name": "stdout",
          "text": [
            "0.7482270849973184\n"
          ]
        }
      ]
    },
    {
      "cell_type": "code",
      "source": [
        "from sklearn.ensemble import RandomForestRegressor\n",
        "RandomForestRegressor=RandomForestRegressor()\n",
        "RandomForestRegressor=RandomForestRegressor.fit(X_train,y_train)\n"
      ],
      "metadata": {
        "id": "AHIBcWQKbNut"
      },
      "execution_count": 62,
      "outputs": []
    },
    {
      "cell_type": "code",
      "source": [
        "y_pred=RandomForestRegressor.predict(X_test)"
      ],
      "metadata": {
        "id": "a6_jKRTKck61"
      },
      "execution_count": 63,
      "outputs": []
    },
    {
      "cell_type": "code",
      "source": [
        "print(r2_score(y_test,y_pred))"
      ],
      "metadata": {
        "colab": {
          "base_uri": "https://localhost:8080/"
        },
        "id": "zjATmxkjf5TO",
        "outputId": "63bfa6a6-bb6e-484d-e3ee-300872579245"
      },
      "execution_count": 64,
      "outputs": [
        {
          "output_type": "stream",
          "name": "stdout",
          "text": [
            "0.9070235286342158\n"
          ]
        }
      ]
    }
  ]
}